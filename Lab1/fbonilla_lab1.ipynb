{
  "nbformat": 4,
  "nbformat_minor": 0,
  "metadata": {
    "colab": {
      "name": "fbonilla_lab1.ipynb",
      "provenance": [],
      "collapsed_sections": []
    },
    "kernelspec": {
      "display_name": "Python 3",
      "language": "python",
      "name": "python3"
    },
    "language_info": {
      "codemirror_mode": {
        "name": "ipython",
        "version": 3
      },
      "file_extension": ".py",
      "mimetype": "text/x-python",
      "name": "python",
      "nbconvert_exporter": "python",
      "pygments_lexer": "ipython3",
      "version": "3.6.4"
    }
  },
  "cells": [
    {
      "cell_type": "markdown",
      "source": [
        ""
      ],
      "metadata": {
        "id": "0aRGfD7vZK_Y"
      }
    },
    {
      "cell_type": "markdown",
      "metadata": {
        "id": "eQzBbvyKQymx"
      },
      "source": [
        "<div align=\"center\">\n",
        "<img style=\"display: block; margin: auto;\" alt=\"photo\" src=\"https://cdn.quantconnect.com/web/i/icon.png\">\n",
        "\n",
        "Quantconnect\n",
        "\n",
        "Introduction to Financial Python\n",
        "</div>\n",
        "\n",
        "# 01 Data Types and Data Structures\n",
        "\n",
        "# Introduction\n",
        "\n",
        "This tutorial provides a basic introduction to the Python programming language. If you are new to Python, you should run the code snippets while reading this tutorial. If you are an advanced Python user, please feel free to skip this chapter.\n",
        "\n",
        "# Basic Variable Types\n",
        "The basic types of variables in Python are: strings, integers, floating point numbers and booleans.\n",
        "\n",
        "Strings in python are identified as a contiguous set of characters represented in either single quotes (' ') or double quotes (\" \").\n"
      ]
    },
    {
      "cell_type": "code",
      "metadata": {
        "colab": {
          "base_uri": "https://localhost:8080/"
        },
        "id": "N5t-UrcfOqid",
        "outputId": "76a11a3d-3975-45d1-adf0-1d1b723658af"
      },
      "source": [
        "my_string1 = 'Hi, my name is' #Declaración de la primera variable\n",
        "my_string2 = \"Francesca\" #Declaración de la segunda variable\n",
        "print(my_string1 + ' ' + my_string2) #Imprime la concatenación de ambas variables"
      ],
      "execution_count": null,
      "outputs": [
        {
          "output_type": "stream",
          "name": "stdout",
          "text": [
            "Hi, my name is Francesca\n"
          ]
        }
      ]
    },
    {
      "cell_type": "markdown",
      "metadata": {
        "id": "bXHnxZyHSd1M"
      },
      "source": [
        "An integer is a round number with no values after the decimal point."
      ]
    },
    {
      "cell_type": "code",
      "metadata": {
        "colab": {
          "base_uri": "https://localhost:8080/"
        },
        "id": "pNjuz3toOqif",
        "outputId": "60a51b4d-19ce-4fd2-d587-27ffc84a3d6e"
      },
      "source": [
        "my_int = 10 #Declaración de la variable\n",
        "print(my_int) #Imprime la varuable\n",
        "print(type(my_int)) #Imprime el tipo de variable "
      ],
      "execution_count": null,
      "outputs": [
        {
          "output_type": "stream",
          "name": "stdout",
          "text": [
            "10\n",
            "<class 'int'>\n"
          ]
        }
      ]
    },
    {
      "cell_type": "markdown",
      "metadata": {
        "id": "_1ZanWrYSnzF"
      },
      "source": [
        "The built-in function int() can convert a string into an integer."
      ]
    },
    {
      "cell_type": "code",
      "metadata": {
        "colab": {
          "base_uri": "https://localhost:8080/"
        },
        "id": "zPwGb20FOqif",
        "outputId": "578dce75-668e-4668-c593-f72214175888"
      },
      "source": [
        "my_string = \"100\" #Declaración de la variable\n",
        "print(type(my_string)) #Imprime el tipo de variable que se declaró\n",
        "my_int = int(my_string) #Se convierte la variable de string a integer\n",
        "print(type(my_int)) #Imprime el nuevo tipo de variable"
      ],
      "execution_count": null,
      "outputs": [
        {
          "output_type": "stream",
          "name": "stdout",
          "text": [
            "<class 'str'>\n",
            "<class 'int'>\n"
          ]
        }
      ]
    },
    {
      "cell_type": "markdown",
      "metadata": {
        "id": "WqMDPDTHSrE9"
      },
      "source": [
        "A floating point number, or a float, is a real number in mathematics. In Python we need to include a value after a decimal point to define it as a float"
      ]
    },
    {
      "cell_type": "code",
      "metadata": {
        "colab": {
          "base_uri": "https://localhost:8080/"
        },
        "id": "otCzKKW9Oqig",
        "outputId": "e85895e7-694d-4a5c-c639-a65cc2be655d"
      },
      "source": [
        "my_string = \"100\" #Se declara la variable\n",
        "print(type(my_string)) #Imprime el tipo de la variable\n",
        "my_float = float(my_string) #Convierte el tipo de variable de string a float y guarda el resultado en una nueva variable\n",
        "print(type(my_float)) #Imprime el nuevo tipo de la variable\n",
        "flo=3.54 #Se declara una nueva variable, la cual guarda un número decimal\n",
        "print(type(flo)) #Imprime el nuevo tipo de la variable"
      ],
      "execution_count": null,
      "outputs": [
        {
          "output_type": "stream",
          "name": "stdout",
          "text": [
            "<class 'str'>\n",
            "<class 'float'>\n",
            "<class 'float'>\n"
          ]
        }
      ]
    },
    {
      "cell_type": "markdown",
      "metadata": {
        "id": "2iuyv8Q7StTJ"
      },
      "source": [
        "As you can see above, if we don't include a decimal value, the variable would be defined as an integer. The built-in function float() can convert a string or an integer into a float."
      ]
    },
    {
      "cell_type": "code",
      "metadata": {
        "colab": {
          "base_uri": "https://localhost:8080/"
        },
        "id": "wwLw5VthOqig",
        "outputId": "d9da1137-5370-4cdb-bced-c27acb8ccf68"
      },
      "source": [
        "my_bool = False #Se declara una variable cuyo valor es False\n",
        "print(my_bool) #Se imprime la variable\n",
        "print(type(my_bool)) #Se imprime el tipo de variable"
      ],
      "execution_count": null,
      "outputs": [
        {
          "output_type": "stream",
          "name": "stdout",
          "text": [
            "False\n",
            "<class 'bool'>\n"
          ]
        }
      ]
    },
    {
      "cell_type": "markdown",
      "metadata": {
        "id": "bnGMwH21Szr_"
      },
      "source": [
        "A boolean, or bool, is a binary variable. Its value can only be True or False. It is useful when we do some logic operations, which would be covered in our next chapter."
      ]
    },
    {
      "cell_type": "code",
      "metadata": {
        "colab": {
          "base_uri": "https://localhost:8080/"
        },
        "id": "DMa6pDl5Oqig",
        "outputId": "3fc526e2-4e3b-40c7-d543-019c42f69045"
      },
      "source": [
        "#Se imprimen nombres de operaciones matemáticas con su respectivo ejemplo, estos ejemplos no deben estar entre comillas ya que son resultado de operaciones entre enteros.\n",
        "print(\"Addition \", 95+23)\n",
        "print(\"Subtraction \", 100-36)\n",
        "print(\"Multiplication \", 6*8)\n",
        "print(\"Division \", 2000/4)\n",
        "print('Exponent', 9**3)"
      ],
      "execution_count": null,
      "outputs": [
        {
          "output_type": "stream",
          "name": "stdout",
          "text": [
            "Addition  118\n",
            "Subtraction  64\n",
            "Multiplication  48\n",
            "Division  500.0\n",
            "Exponent 729\n"
          ]
        }
      ]
    },
    {
      "cell_type": "markdown",
      "metadata": {
        "id": "1Xc9G9_sS2ju"
      },
      "source": [
        "# Basic Math Operations\n",
        "\n",
        "The basic math operators in python are demonstrated below:"
      ]
    },
    {
      "cell_type": "code",
      "metadata": {
        "colab": {
          "base_uri": "https://localhost:8080/"
        },
        "id": "KE9gUryAOqig",
        "outputId": "21c55064-0f10-46a4-c98a-9a828b1134ce"
      },
      "source": [
        "#Se imprimen los resultados de una misma división escrita de forma distinta\n",
        "print(1/3)\n",
        "print(1.0/3)"
      ],
      "execution_count": null,
      "outputs": [
        {
          "output_type": "stream",
          "name": "stdout",
          "text": [
            "0.3333333333333333\n",
            "0.3333333333333333\n"
          ]
        }
      ]
    },
    {
      "cell_type": "markdown",
      "metadata": {
        "id": "AN5Oa3DoS_Nf"
      },
      "source": [
        "# Data Collections\n",
        "\n",
        "## List\n",
        "A list is an ordered collection of values. A list is mutable, which means you can change a list's value without changing the list itself. Creating a list is simply putting different comma-separated values between square brackets."
      ]
    },
    {
      "cell_type": "code",
      "metadata": {
        "colab": {
          "base_uri": "https://localhost:8080/"
        },
        "id": "-tQdNqCvOqig",
        "outputId": "52806142-619e-4038-f357-9a3323f9e418"
      },
      "source": [
        "my_list = ['Números', 'Naturales', 1,2,3] #Se crea una lista de elementos\n",
        "print(my_list) #Se imprime la lista"
      ],
      "execution_count": null,
      "outputs": [
        {
          "output_type": "stream",
          "name": "stdout",
          "text": [
            "['Números', 'Naturales', 1, 2, 3]\n"
          ]
        }
      ]
    },
    {
      "cell_type": "markdown",
      "metadata": {
        "id": "1O0TsgZCTHrM"
      },
      "source": [
        "The values in a list are called \"elements\". We can access list elements by indexing. Python index starts from 0. So if you have a list of length n, the index of the first element will be 0, and that of the last element will be n − 1. By the way, the length of a list can be obtained by the built-in function len()."
      ]
    },
    {
      "cell_type": "code",
      "metadata": {
        "colab": {
          "base_uri": "https://localhost:8080/"
        },
        "id": "QhuVhRR5Oqih",
        "outputId": "8a020a4b-84b2-405d-f729-88a621553e6b"
      },
      "source": [
        "my_list = ['Números', 'Naturales', 1,2,3] #Se crea una lista de elementos\n",
        "print(len(my_list)) #Se imprime la longitud de la lista creada\n",
        "print(my_list[0]) #Se imprime el primer elemento de la lista\n",
        "print(my_list[len(my_list) -1]) #Se imprime el último elemento de la lista"
      ],
      "execution_count": null,
      "outputs": [
        {
          "output_type": "stream",
          "name": "stdout",
          "text": [
            "5\n",
            "Números\n",
            "3\n"
          ]
        }
      ]
    },
    {
      "cell_type": "markdown",
      "metadata": {
        "id": "jgSZy1VGTKSc"
      },
      "source": [
        "You can also change the elements in the list by accessing an index and assigning a new value."
      ]
    },
    {
      "cell_type": "code",
      "metadata": {
        "colab": {
          "base_uri": "https://localhost:8080/"
        },
        "id": "NQBNLjAvOqih",
        "outputId": "ff521260-20f6-45b0-e09c-58b9c8a9d8b7"
      },
      "source": [
        "my_list = ['Números','Naturales',1,2,3] #Se crea una lista de elementos\n",
        "print(my_list) #Se imprime la lista\n",
        "my_list[1] = 'Pares' #Se cambia el valor del segundo elemento de la lista por uno nuevo\n",
        "my_list[2] = 2 #Se cambia el valor del tercer elemento de la lista por uno nuevo\n",
        "my_list[3] = 4 #Se cambia el valor del cuarto elemento de la lista por uno nuevo\n",
        "my_list[4] = 6 #Se cambia el valor del quinto elemento de la lista por uno nuevo\n",
        "print(my_list) #Se imprime la nueva lista"
      ],
      "execution_count": null,
      "outputs": [
        {
          "output_type": "stream",
          "name": "stdout",
          "text": [
            "['Números', 'Naturales', 1, 2, 3]\n",
            "['Números', 'Pares', 2, 4, 6]\n"
          ]
        }
      ]
    },
    {
      "cell_type": "markdown",
      "metadata": {
        "id": "EQPs5ojoTVrk"
      },
      "source": [
        "A list can also be sliced with a colon:"
      ]
    },
    {
      "cell_type": "code",
      "metadata": {
        "colab": {
          "base_uri": "https://localhost:8080/"
        },
        "id": "keNX2RbtOqii",
        "outputId": "03243704-2005-4564-98c0-7e87d453fc3d"
      },
      "source": [
        "my_list = ['Números','Naturales',1,2,3] #Se crea una lista de elementos\n",
        "print(my_list[1:4]) #Se imprime la lista desde el segundo elemento hasta el cuarto"
      ],
      "execution_count": null,
      "outputs": [
        {
          "output_type": "stream",
          "name": "stdout",
          "text": [
            "['Naturales', 1, 2]\n"
          ]
        }
      ]
    },
    {
      "cell_type": "markdown",
      "metadata": {
        "id": "AZqQd0K8TYul"
      },
      "source": [
        "The slice starts from the first element indicated, but excludes the last element indicated. Here we select all elements starting from index 1, which refers to the second element:"
      ]
    },
    {
      "cell_type": "code",
      "metadata": {
        "colab": {
          "base_uri": "https://localhost:8080/"
        },
        "id": "0-76sLfkOqii",
        "outputId": "d8c83cef-26e3-4e42-ebf4-ce719134aad1"
      },
      "source": [
        "print(my_list[1:]) #La lista se imprime desde el segundo elemento hasta el final"
      ],
      "execution_count": null,
      "outputs": [
        {
          "output_type": "stream",
          "name": "stdout",
          "text": [
            "['Naturales', 1, 2, 3]\n"
          ]
        }
      ]
    },
    {
      "cell_type": "markdown",
      "metadata": {
        "id": "XBqvhUdZVKWs"
      },
      "source": [
        "And all elements up to but excluding index 3:"
      ]
    },
    {
      "cell_type": "code",
      "metadata": {
        "id": "5NWr75L9Oqii"
      },
      "source": [
        "print(my_list[:3]) #La lista se imprime desde el primer elemento hasta el tercero"
      ],
      "execution_count": null,
      "outputs": []
    },
    {
      "cell_type": "markdown",
      "metadata": {
        "id": "eAFmM6bkTZz9"
      },
      "source": [
        "If you wish to add or remove an element from a list, you can use the append() and remove() methods for lists as follows:"
      ]
    },
    {
      "cell_type": "code",
      "metadata": {
        "colab": {
          "base_uri": "https://localhost:8080/"
        },
        "id": "pHmgTPElTo19",
        "outputId": "9ee9f7f3-75e7-4fdd-e501-8a22c1a376c7"
      },
      "source": [
        "my_list = ['Hello', 'my name is'] #Se crea una lista de elementos\n",
        "print(my_list) #Se imprime la lista\n",
        "my_list.append('Francesca') #Se agrega el elemento al final de la lista\n",
        "print(my_list) #Se imprime la nueva lista\n",
        "\n"
      ],
      "execution_count": null,
      "outputs": [
        {
          "output_type": "stream",
          "name": "stdout",
          "text": [
            "['Hello', 'my name is']\n",
            "['Hello', 'my name is', 'Francesca']\n"
          ]
        }
      ]
    },
    {
      "cell_type": "code",
      "metadata": {
        "colab": {
          "base_uri": "https://localhost:8080/"
        },
        "id": "4C4U1Yf0Tr8l",
        "outputId": "39555972-2016-409c-80ad-47dcb40de678"
      },
      "source": [
        "my_list.remove('Hello') #Se elimina el elemento de la lista\n",
        "print(my_list) #Se imprime la nueva lista"
      ],
      "execution_count": null,
      "outputs": [
        {
          "output_type": "stream",
          "name": "stdout",
          "text": [
            "['my name is', 'Francesca']\n"
          ]
        }
      ]
    },
    {
      "cell_type": "markdown",
      "metadata": {
        "id": "11W1gG-cVmOU"
      },
      "source": [
        "When there are repeated instances of \"Hello\", the first one is removed.\n",
        "\n",
        "## Tuple\n",
        "A tuple is a data structure type similar to a list. The difference is that a tuple is immutable, which means you can't change the elements in it once it's defined. We create a tuple by putting comma-separated values between parentheses."
      ]
    },
    {
      "cell_type": "code",
      "metadata": {
        "collapsed": true,
        "id": "vPmn6BAaOqii"
      },
      "source": [
        "my_tuple = ('Hello','my name is','Francesca') #Se crea una tupla"
      ],
      "execution_count": null,
      "outputs": []
    },
    {
      "cell_type": "markdown",
      "metadata": {
        "id": "zMIme4dDV0Wz"
      },
      "source": [
        "Just like a list, a tuple can be sliced by using index."
      ]
    },
    {
      "cell_type": "code",
      "metadata": {
        "colab": {
          "base_uri": "https://localhost:8080/"
        },
        "id": "8P-ddO0sOqii",
        "outputId": "ae158942-961c-4b43-afe1-0a484c6e3a3b"
      },
      "source": [
        "my_tuple = ('Hello','my name is','Francesca') #Se crea una tupla\n",
        "print(my_tuple[1:]) #Se imprime la tupla desde el segundo elemento"
      ],
      "execution_count": null,
      "outputs": [
        {
          "output_type": "stream",
          "name": "stdout",
          "text": [
            "('my name is', 'Francesca')\n"
          ]
        }
      ]
    },
    {
      "cell_type": "markdown",
      "metadata": {
        "id": "l2JqbusAV1Y2"
      },
      "source": [
        "## Set\n",
        "A set is an **unordered**  collection with **no duplicate** elements. The built-in function **set()** can be used to create sets."
      ]
    },
    {
      "cell_type": "code",
      "metadata": {
        "colab": {
          "base_uri": "https://localhost:8080/"
        },
        "id": "Plau8r-UOqij",
        "outputId": "1c658bda-7ad4-437f-90a6-769bed06f812"
      },
      "source": [
        "stock_list = ['AAPL','GOOG','IBM','AAPL','IBM','FB','F','GOOG'] #Se crea una lista de elementos\n",
        "stock_set = set(stock_list) #Se realiza un set para eliminar los elementos duplicados\n",
        "print(stock_set) #Se imprime el set creado"
      ],
      "execution_count": null,
      "outputs": [
        {
          "output_type": "stream",
          "name": "stdout",
          "text": [
            "{'IBM', 'GOOG', 'AAPL', 'FB', 'F'}\n"
          ]
        }
      ]
    },
    {
      "cell_type": "markdown",
      "metadata": {
        "id": "Jyb4GGIoWIHk"
      },
      "source": [
        "Set is an easy way to remove duplicate elements from a list.\n",
        "\n",
        "##Dictionary\n",
        "A dictionary is one of the most important data structures in Python. Unlike sequences which are indexed by integers, dictionaries are indexed by keys which can be either strings or floats.\n",
        "\n",
        "A dictionary is an **unordered** collection of key : value pairs, with the requirement that the keys are unique. We create a dictionary by placing a comma-separated list of key : value pairs within the braces."
      ]
    },
    {
      "cell_type": "code",
      "metadata": {
        "collapsed": true,
        "id": "36mTe5BaOqij"
      },
      "source": [
        "my_dic = {'AAPL':'AAPLE', 'FB':'FaceBook', 'GOOG':'Alphabet'} #Se crea un diccionario"
      ],
      "execution_count": null,
      "outputs": []
    },
    {
      "cell_type": "code",
      "metadata": {
        "colab": {
          "base_uri": "https://localhost:8080/"
        },
        "id": "KUfdVf43Oqij",
        "outputId": "5b1be174-ddee-4362-dd7c-9cdfe426c494"
      },
      "source": [
        "print(my_dic['GOOG']) #Se imprime el valor que esté guardado con la llave GOOG"
      ],
      "execution_count": null,
      "outputs": [
        {
          "output_type": "stream",
          "name": "stdout",
          "text": [
            "Alphabet\n"
          ]
        }
      ]
    },
    {
      "cell_type": "markdown",
      "metadata": {
        "id": "gSicoNqDWP4c"
      },
      "source": [
        "After defining a dictionary, we can access any value by indicating its key in brackets."
      ]
    },
    {
      "cell_type": "code",
      "metadata": {
        "colab": {
          "base_uri": "https://localhost:8080/"
        },
        "id": "IrTZdq9FOqij",
        "outputId": "551e3531-7f1f-4f66-e0ba-fc8d226c1d81"
      },
      "source": [
        "print(my_dic['GOOG']) #Se imprime el valor que esté guardado con la llave GOOG\n",
        "my_dic['GOOG'] = 'Alphabet Company' #Se cambia el valor del elemento guardado con la llave GOOG\n",
        "print(my_dic['GOOG']) #Se imprime el nuevo valor guardado con la llave GOOG"
      ],
      "execution_count": null,
      "outputs": [
        {
          "output_type": "stream",
          "name": "stdout",
          "text": [
            "Alphabet\n",
            "Alphabet Company\n"
          ]
        }
      ]
    },
    {
      "cell_type": "markdown",
      "metadata": {
        "id": "M9sDsTEMWQvc"
      },
      "source": [
        "We can also change the value associated with a specified key:"
      ]
    },
    {
      "cell_type": "code",
      "metadata": {
        "colab": {
          "base_uri": "https://localhost:8080/"
        },
        "id": "lupRHf1_Oqij",
        "outputId": "201cf66d-1e6a-4bfb-d7ae-0a217479ffbf"
      },
      "source": [
        "print(my_dic.keys()) #Se imprimen los nombres de las llaves del diccionario"
      ],
      "execution_count": null,
      "outputs": [
        {
          "output_type": "stream",
          "name": "stdout",
          "text": [
            "dict_keys(['AAPL', 'FB', 'GOOG'])\n"
          ]
        }
      ]
    },
    {
      "cell_type": "markdown",
      "metadata": {
        "id": "VPuDinlwWS9D"
      },
      "source": [
        "The built-in method of the dictionary object dict.keys() returns a list of all the keys used in the dictionary."
      ]
    },
    {
      "cell_type": "markdown",
      "metadata": {
        "id": "kSGzgNb2Womz"
      },
      "source": [
        "# Common String Operations\n",
        "A string is an immutable sequence of characters. It can be sliced by index just like a tuple:"
      ]
    },
    {
      "cell_type": "code",
      "metadata": {
        "colab": {
          "base_uri": "https://localhost:8080/"
        },
        "id": "xPojDnm9Oqik",
        "outputId": "751f25c5-ae8c-49da-ddf9-70ebaa828801"
      },
      "source": [
        "my_str = 'Welcome to QuantConnect' #Se guarda una cadena en una variable\n",
        "print(my_str[8:]) #Se imprime la cadena a partir de su noveno elemento"
      ],
      "execution_count": null,
      "outputs": [
        {
          "output_type": "stream",
          "name": "stdout",
          "text": [
            "to QuantConnect\n"
          ]
        }
      ]
    },
    {
      "cell_type": "markdown",
      "metadata": {
        "id": "wuJYy7tvWtM7"
      },
      "source": [
        "There are many methods associated with strings. We can use string.count() to count the occurrences of a character in a string, use string.find() to return the index of a specific character, and use string.replace() to replace characters"
      ]
    },
    {
      "cell_type": "code",
      "metadata": {
        "colab": {
          "base_uri": "https://localhost:8080/"
        },
        "id": "u9deZq1SOqik",
        "outputId": "9f24d6f4-d166-470d-89f9-27d1e6802345"
      },
      "source": [
        "print('Counting the number of e appears in this sentence'.count('e')) #Se imprime el número de veces que se repite la letra e en la cadena que se ingresó\n",
        "print('The first time e appears in this sentence'.find('e')) #Se imprime en qué índice aparece la letra e por primera vez\n",
        "print('all the a in this sentence now becomes e'.replace('a','e')) #Se reeemplazan todas las a de la cadena por e."
      ],
      "execution_count": null,
      "outputs": [
        {
          "output_type": "stream",
          "name": "stdout",
          "text": [
            "7\n",
            "2\n",
            "ell the e in this sentence now becomes e\n"
          ]
        }
      ]
    },
    {
      "cell_type": "markdown",
      "metadata": {
        "id": "sJPn3rkvWwHN"
      },
      "source": [
        "The most commonly used method for strings is string.split(). This method will split the string by the indicated character and return a list:"
      ]
    },
    {
      "cell_type": "code",
      "metadata": {
        "colab": {
          "base_uri": "https://localhost:8080/"
        },
        "id": "hbIaFLFHOqik",
        "outputId": "5990103b-c255-45c9-c394-bd05c7efa0d3"
      },
      "source": [
        "Time = '2016-04-01 09:43:00' #Se crea una cadena\n",
        "splited_list = Time.split(' ') #Se usa la función split para convertir la cadena a una lista, cada elemento de la lista será cada uno de los que están separados por espacios en la cadena\n",
        "print(splited_list) #Se imprime la nueva lista\n",
        "date = splited_list[0] #Se guarda el primer elemento de la lista en la variable date\n",
        "time = splited_list[1] #Se guarda el segundo elemento de la lista en la variable time\n",
        "print(date) #Se imprime la variable date\n",
        "print(time) #Se imprime la variable time\n",
        "hour = time.split(':')[0] #La cadena time se convierte en una lista, en la cual cada elemento será cada uno de los que están separados por dos puntos en la cadena\n",
        "print(hour) #Se imrpime la variable hour"
      ],
      "execution_count": null,
      "outputs": [
        {
          "output_type": "stream",
          "name": "stdout",
          "text": [
            "['2016-04-01', '09:43:00']\n",
            "2016-04-01\n",
            "09:43:00\n",
            "09\n"
          ]
        }
      ]
    },
    {
      "cell_type": "markdown",
      "metadata": {
        "id": "9cJQGk96WyVc"
      },
      "source": [
        "We can replace parts of a string by our variable. This is called string formatting."
      ]
    },
    {
      "cell_type": "code",
      "metadata": {
        "colab": {
          "base_uri": "https://localhost:8080/"
        },
        "id": "-E_rIvv6Oqik",
        "outputId": "e275baa6-5424-464e-fb02-bfab5b803e6f"
      },
      "source": [
        "my_time = 'Hour: {}, Minute:{}'.format('09','43') #Se reemplazan las llaves de la cadena por los valores de las variables que se indican en la función format\n",
        "print(my_time) #Se imprime la cadena"
      ],
      "execution_count": null,
      "outputs": [
        {
          "output_type": "stream",
          "name": "stdout",
          "text": [
            "Hour: 09, Minute:43\n"
          ]
        }
      ]
    },
    {
      "cell_type": "markdown",
      "metadata": {
        "id": "1_NbVldpWzAs"
      },
      "source": [
        "Another way to format a string is to use the % symbol."
      ]
    },
    {
      "cell_type": "code",
      "metadata": {
        "colab": {
          "base_uri": "https://localhost:8080/"
        },
        "id": "4rZ4rkD2Oqik",
        "outputId": "2f76e1f2-aae8-42e0-e1ea-cd76db6eeadd"
      },
      "source": [
        "#Se reemplaza el % por el valor que se indica al final, la letra que acompaña al % se refiere al tipo de dato que se va a ingresar\n",
        "print('the pi number is %f'%3.14)\n",
        "print('the pi number is %i'%3.14) #Al cambiar la f por la i va a convertir el valor de decimal a entero\n",
        "print('%s to %s'%('Welcome','Quantconnect'))"
      ],
      "execution_count": null,
      "outputs": [
        {
          "output_type": "stream",
          "name": "stdout",
          "text": [
            "the pi number is 3.140000\n",
            "the pi number is 3\n",
            "Welcome to Quantconnect\n"
          ]
        }
      ]
    },
    {
      "cell_type": "markdown",
      "metadata": {
        "id": "v_5cocrDW3MN"
      },
      "source": [
        "# Summary\n",
        "\n",
        "Weave seen the basic data types and data structures in Python. It's important to keep practicing to become familiar with these data structures. In the next tutorial, we will cover for and while loops and logical operations in Python."
      ]
    },
    {
      "cell_type": "markdown",
      "metadata": {
        "id": "QL6dNxwCXNEt"
      },
      "source": [
        "<div align=\"center\">\n",
        "<img style=\"display: block; margin: auto;\" alt=\"photo\" src=\"https://cdn.quantconnect.com/web/i/icon.png\">\n",
        "\n",
        "Quantconnect\n",
        "\n",
        "Introduction to Financial Python\n",
        "</div>\n",
        "\n",
        "# 02 Logical Operations and Loops\n",
        "\n",
        "# Introduction\n",
        "We discussed the basic data types and data structures in Python in the last tutorial. This chapter covers logical operations and loops in Python, which are very common in programming.\n",
        "\n",
        "# Logical Operations\n",
        "Like most programming languages, Python has comparison operators:"
      ]
    },
    {
      "cell_type": "code",
      "metadata": {
        "colab": {
          "base_uri": "https://localhost:8080/"
        },
        "id": "70Guys_rOv7a",
        "outputId": "bf993e95-d92a-4f7d-bd3f-aaef3f67901f"
      },
      "source": [
        "#Se imprime true o false a las siguientes afirmaciones de comparación\n",
        "print(1 == 0)\n",
        "print(1 == 1)\n",
        "print(1 != 0) # != quiere decir diferente\n",
        "print(5 >= 5)\n",
        "print(5 >= 6)"
      ],
      "execution_count": null,
      "outputs": [
        {
          "output_type": "stream",
          "name": "stdout",
          "text": [
            "False\n",
            "True\n",
            "True\n",
            "True\n",
            "False\n"
          ]
        }
      ]
    },
    {
      "cell_type": "markdown",
      "metadata": {
        "id": "8aFHYDj-YTXt"
      },
      "source": [
        "Each statement above has a boolean value, which must be either True or False, but not both.\n",
        "\n",
        "We can combine simple statements P and Q to form complex statements using logical operators:\n",
        "\n",
        "- The statement \"P and Q\" is true if both P and Q are true, otherwise it is false.\n",
        "- The statement \"P or Q\" is false if both P and Q are false, otherwise it is true.\n",
        "- The statement \"not P\" is true if P is false, and vice versa."
      ]
    },
    {
      "cell_type": "code",
      "metadata": {
        "colab": {
          "base_uri": "https://localhost:8080/"
        },
        "id": "O5YEEcUbOv7d",
        "outputId": "8d7d43d4-a643-4866-de80-3ee0245a9999"
      },
      "source": [
        "#Se realizan comparaciones con los operadores lógicos and y or\n",
        "#And: Si ambas afirmaciones son verdaderas, la sentencia es verdadera\n",
        "#Or: Si ambas afirmaciones son falsas, la sentencia es falsa\n",
        "print(2 > 1 and 3 > 2)\n",
        "print(2 > 1 and 3 < 2) \n",
        "print(2 > 1 or 3 < 2)\n",
        "print(2 < 1 and 3 < 2)"
      ],
      "execution_count": null,
      "outputs": [
        {
          "output_type": "stream",
          "name": "stdout",
          "text": [
            "True\n",
            "False\n",
            "True\n",
            "False\n"
          ]
        }
      ]
    },
    {
      "cell_type": "markdown",
      "metadata": {
        "id": "Dy7yzoSXYXmL"
      },
      "source": [
        "When dealing with a very complex logical statement that involves in several statements, we can use brackets to separate and combine them."
      ]
    },
    {
      "cell_type": "code",
      "metadata": {
        "colab": {
          "base_uri": "https://localhost:8080/"
        },
        "id": "QZ-W2xJZOv7d",
        "outputId": "3d216a4f-81c8-4040-d88e-5df0a543d3fa"
      },
      "source": [
        "#Se realizan comparaciones complejas, por lo cual priorizamos el orden con paréntesis, primero se resuelven estos, luego el resto\n",
        "print((3 > 2 or 1 < 3) and (1!=3 and 4>3) and not ( 3 < 2 or 1 < 3 and (1!=3 and 4>3)))\n",
        "print(3 > 2 or 1 < 3 and (1!=3 and 4>3) and not ( 3 < 2 or 1 < 3 and (1!=3 and 4>3)))"
      ],
      "execution_count": null,
      "outputs": [
        {
          "output_type": "stream",
          "name": "stdout",
          "text": [
            "False\n",
            "True\n"
          ]
        }
      ]
    },
    {
      "cell_type": "markdown",
      "metadata": {
        "id": "s95xoRYMYaPD"
      },
      "source": [
        "Comparing the above two statements, we can see that it's wise to use brackets when we make a complex logical statement.\n",
        "\n",
        "# If Statement\n",
        "An if statement executes a segment of code only if its condition is true. A standard if statement consists of 3 segments: if, elif and else."
      ]
    },
    {
      "cell_type": "markdown",
      "metadata": {
        "id": "aRzMMitAaBOL"
      },
      "source": [
        "```python\n",
        "if statement1:\n",
        "    # if the statement1 is true, execute the code here.\n",
        "    # code.....\n",
        "    # code.....\n",
        "elif statement2:\n",
        "    # if the statement 1 is false, skip the codes above to this part.\n",
        "    # code......\n",
        "    # code......\n",
        "else:\n",
        "    # if none of the above statements is True, skip to this part\n",
        "    # code......\n",
        "```"
      ]
    },
    {
      "cell_type": "markdown",
      "metadata": {
        "id": "l59R2AS8aH2K"
      },
      "source": [
        "An if statement doesn't necessarily has elif and else part. If it's not specified, the indented block of code will be executed when the condition is true, otherwise the whole if statement will be skipped."
      ]
    },
    {
      "cell_type": "code",
      "metadata": {
        "colab": {
          "base_uri": "https://localhost:8080/"
        },
        "id": "FZ5GoTXfOv7e",
        "outputId": "1d32caba-e1cd-41dc-f752-ca3fe5fba557"
      },
      "source": [
        "i = 0\n",
        "if i == 0: #Se ejecutan las funciones dentro del if sólo si las condiciones se cumplen\n",
        "    print('i==0 is True')"
      ],
      "execution_count": null,
      "outputs": [
        {
          "output_type": "stream",
          "name": "stdout",
          "text": [
            "i==0 is True\n"
          ]
        }
      ]
    },
    {
      "cell_type": "markdown",
      "metadata": {
        "id": "nPNW-l5eaJn8"
      },
      "source": [
        "As we mentioned above, we can write some complex statements here:"
      ]
    },
    {
      "cell_type": "code",
      "metadata": {
        "colab": {
          "base_uri": "https://localhost:8080/"
        },
        "id": "gh-U6nMzOv7e",
        "outputId": "a272908c-f3ba-4396-e1ca-84494341281e"
      },
      "source": [
        "p = 1 > 0\n",
        "q = 2 > 3\n",
        "if p and q: #Se ejecutan las funciones dentro del if sólo si las condiciones se cumplen\n",
        "    print('p and q is true')\n",
        "elif p and not q: #Ejecutar las funciones si no se cumplieron las condiciones anteriores\n",
        "    print('q is false')\n",
        "elif q and not p: #Ejecutar las funciones si no se cumplieron las condiciones anteriores\n",
        "    print('p is false')\n",
        "else: #Ejecutar las funciones si ninguna de las condiciones anteriores se cumplieron\n",
        "    print('None of p and q is true')"
      ],
      "execution_count": null,
      "outputs": [
        {
          "output_type": "stream",
          "name": "stdout",
          "text": [
            "q is false\n"
          ]
        }
      ]
    },
    {
      "cell_type": "markdown",
      "metadata": {
        "id": "tgRDwiAsaMOL"
      },
      "source": [
        "# Loop Structure\n",
        "Loops are an essential part of programming. The \"for\" and \"while\" loops run a block of code repeatedly.\n",
        "\n",
        "## While Loop\n",
        "A \"while\" loop will run repeatedly until a certain condition has been met."
      ]
    },
    {
      "cell_type": "code",
      "metadata": {
        "colab": {
          "base_uri": "https://localhost:8080/"
        },
        "id": "uQLau8d5Ov7f",
        "outputId": "bd652b43-628d-4c95-e209-0e4e32ccee37"
      },
      "source": [
        "i = 0\n",
        "while i < 5: #Se ejecutan las funciones mientras se cumpla esta condición\n",
        "    print(i)\n",
        "    i += 1 #Se modifica la variable para que el ciclo no sea infinito"
      ],
      "execution_count": null,
      "outputs": [
        {
          "output_type": "stream",
          "name": "stdout",
          "text": [
            "0\n",
            "1\n",
            "2\n",
            "3\n",
            "4\n"
          ]
        }
      ]
    },
    {
      "cell_type": "markdown",
      "metadata": {
        "id": "ydLddFAPaTOE"
      },
      "source": [
        "When making a while loop, we need to ensure that something changes from iteration to iteration so that the while loop will terminate, otherwise, it will run forever. Here we used i += 1 (short for i = i + 1) to make i larger after each iteration. This is the most commonly used method to control a while loop.\n",
        "\n",
        "## For Loop\n",
        "A \"for\" loop will iterate over a sequence of value and terminate when the sequence has ended."
      ]
    },
    {
      "cell_type": "code",
      "metadata": {
        "colab": {
          "base_uri": "https://localhost:8080/"
        },
        "id": "kt8Ie8u1Ov7f",
        "outputId": "3e598608-0d6f-4e1c-b3fc-34d06ff14eb8"
      },
      "source": [
        "for i in [1,2,3,4,5]: #Se realiza el ciclo por cada elemento de la lista\n",
        "    print(i)"
      ],
      "execution_count": null,
      "outputs": [
        {
          "output_type": "stream",
          "name": "stdout",
          "text": [
            "1\n",
            "2\n",
            "3\n",
            "4\n",
            "5\n"
          ]
        }
      ]
    },
    {
      "cell_type": "markdown",
      "metadata": {
        "id": "yWStqpreaX-T"
      },
      "source": [
        "We can also add if statements in a for loop. Here is a real example from our pairs trading algorithm:"
      ]
    },
    {
      "cell_type": "code",
      "metadata": {
        "colab": {
          "base_uri": "https://localhost:8080/"
        },
        "id": "kElmffvFOv7f",
        "outputId": "0e7c23a5-bba1-41db-9c7d-38ef714a146a"
      },
      "source": [
        "stocks = ['AAPL','GOOG','IBM','FB','F','V', 'G', 'GE']\n",
        "selected = ['AAPL','IBM']\n",
        "new_list = []\n",
        "for i in stocks: #Por cada elemento de la lista stocks se ejecutan las siguientes funciones\n",
        "    if i not in selected: #Si el elemento no se encuentra en la lista selected, se ejecuta la siguiente función\n",
        "        new_list.append(i) #Se añade el elemento en la nueva lista\n",
        "print(new_list) #Se imprime la nueva lista"
      ],
      "execution_count": null,
      "outputs": [
        {
          "output_type": "stream",
          "name": "stdout",
          "text": [
            "['GOOG', 'FB', 'F', 'V', 'G', 'GE']\n"
          ]
        }
      ]
    },
    {
      "cell_type": "markdown",
      "metadata": {
        "id": "wb2hry9dahE0"
      },
      "source": [
        "Here we iterated all the elements in the list 'stocks'. Later in this chapter, we will introduce a smarter way to do this, which is just a one-line code.\n",
        "\n",
        "## Break and continue\n",
        "These are two commonly used commands in a for loop. If \"break\" is triggered while a loop is executing, the loop will terminate immediately:"
      ]
    },
    {
      "cell_type": "code",
      "metadata": {
        "colab": {
          "base_uri": "https://localhost:8080/"
        },
        "id": "yF5wMVItOv7g",
        "outputId": "05b7e7f8-54ba-481f-c25b-dbafb9b1f81d"
      },
      "source": [
        "stocks = ['AAPL','GOOG','IBM','FB','F','V', 'G', 'GE']\n",
        "for i in stocks:\n",
        "    print(i)\n",
        "    if i == 'FB': #Si el elemento tiene el valor FB, el ciclo se detendrá\n",
        "        break"
      ],
      "execution_count": null,
      "outputs": [
        {
          "output_type": "stream",
          "name": "stdout",
          "text": [
            "AAPL\n",
            "GOOG\n",
            "IBM\n",
            "FB\n"
          ]
        }
      ]
    },
    {
      "cell_type": "markdown",
      "metadata": {
        "id": "R0toxyp3ao0T"
      },
      "source": [
        "The \"continue\" command tells the loop to end this iteration and skip to the next iteration:"
      ]
    },
    {
      "cell_type": "code",
      "metadata": {
        "colab": {
          "base_uri": "https://localhost:8080/"
        },
        "id": "Stg-CH6IOv7g",
        "outputId": "a355130b-793a-4929-f155-79cac4ab59f0"
      },
      "source": [
        "stocks = ['AAPL','GOOG','IBM','FB','F','V', 'G', 'GE']\n",
        "for i in stocks:\n",
        "    if i == 'FB': #Si el elemento tiene el valor FB, esta iteración se detendrá y el ciclo continuará con el siguiente valor\n",
        "        continue\n",
        "    print(i)"
      ],
      "execution_count": null,
      "outputs": [
        {
          "output_type": "stream",
          "name": "stdout",
          "text": [
            "AAPL\n",
            "GOOG\n",
            "IBM\n",
            "F\n",
            "V\n",
            "G\n",
            "GE\n"
          ]
        }
      ]
    },
    {
      "cell_type": "markdown",
      "metadata": {
        "id": "4NusvdhBaxpZ"
      },
      "source": [
        "# List Comprehension\n",
        "List comprehension is a Pythonic way to create lists. Common applications are to make new lists where each element is the result of some operations applied to each member of another sequence. For example, if we want to create a list of squares using for loop:"
      ]
    },
    {
      "cell_type": "code",
      "metadata": {
        "colab": {
          "base_uri": "https://localhost:8080/"
        },
        "id": "bdxxeOABOv7h",
        "outputId": "1cf55b24-c9b8-476a-a7f9-08adfa49d6a0"
      },
      "source": [
        "squares = []\n",
        "for i in [1,2,3,4,5]: #Por cada elemento de la lista, se agregará a una nueva lista el cuadrado de este número\n",
        "    squares.append(i**2)\n",
        "print(squares)"
      ],
      "execution_count": null,
      "outputs": [
        {
          "output_type": "stream",
          "name": "stdout",
          "text": [
            "[1, 4, 9, 16, 25]\n"
          ]
        }
      ]
    },
    {
      "cell_type": "markdown",
      "metadata": {
        "id": "--KliJBOa1CC"
      },
      "source": [
        "Using list comprehension:"
      ]
    },
    {
      "cell_type": "code",
      "metadata": {
        "colab": {
          "base_uri": "https://localhost:8080/"
        },
        "id": "440-yjG8Ov7h",
        "outputId": "31250e66-07b9-48eb-8c74-3dc835843e75"
      },
      "source": [
        "list = [1,2,3,4,5]\n",
        "squares = [x**2 for x in list] #squares es la lista del cuadrado de cada elemento de la primera lista\n",
        "print(squares)"
      ],
      "execution_count": null,
      "outputs": [
        {
          "output_type": "stream",
          "name": "stdout",
          "text": [
            "[1, 4, 9, 16, 25]\n"
          ]
        }
      ]
    },
    {
      "cell_type": "markdown",
      "metadata": {
        "id": "uMuCfR3ya3zT"
      },
      "source": [
        "Recall the example above where we used a for loop to select stocks. Here we use list comprehension:"
      ]
    },
    {
      "cell_type": "code",
      "metadata": {
        "colab": {
          "base_uri": "https://localhost:8080/"
        },
        "id": "ZGtCtog2Ov7h",
        "outputId": "29e62c5c-1f52-4b17-d01c-15f3e7403643"
      },
      "source": [
        "stocks = ['AAPL','GOOG','IBM','FB','F','V', 'G', 'GE']\n",
        "selected = ['AAPL','IBM']\n",
        "new_list = [x for x in stocks if x not in selected] #Se crea una lista que contiene los elementos que se encuentran en stocks, pero no se encuentran en selected.\n",
        "print(new_list)"
      ],
      "execution_count": null,
      "outputs": [
        {
          "output_type": "stream",
          "name": "stdout",
          "text": [
            "['GOOG', 'FB', 'F', 'V', 'G', 'GE']\n"
          ]
        }
      ]
    },
    {
      "cell_type": "markdown",
      "metadata": {
        "id": "EPeUv6Lia5oD"
      },
      "source": [
        "A list comprehension consists of square brackets containing an expression followed by a \"for\" clause, and possibly \"for\" or \"if\" clauses. For example:"
      ]
    },
    {
      "cell_type": "code",
      "metadata": {
        "colab": {
          "base_uri": "https://localhost:8080/"
        },
        "id": "O1AMB5d7Ov7i",
        "outputId": "3585c3be-f0d4-4340-fcb1-dcd256dc8504"
      },
      "source": [
        "#Se crean parejas ordenadas entre los elementos de dos listas, siempre y cuando x y y sean diferentes\n",
        "print([(x, y) for x in [1,2,3] for y in [3,1,4] if x != y]) \n",
        "print([str(x)+' vs '+str(y) for x in ['AAPL','GOOG','IBM','FB'] for y in ['F','V','G','GE'] if x!=y])"
      ],
      "execution_count": null,
      "outputs": [
        {
          "output_type": "stream",
          "name": "stdout",
          "text": [
            "[(1, 3), (1, 4), (2, 3), (2, 1), (2, 4), (3, 1), (3, 4)]\n",
            "['AAPL vs F', 'AAPL vs V', 'AAPL vs G', 'AAPL vs GE', 'GOOG vs F', 'GOOG vs V', 'GOOG vs G', 'GOOG vs GE', 'IBM vs F', 'IBM vs V', 'IBM vs G', 'IBM vs GE', 'FB vs F', 'FB vs V', 'FB vs G', 'FB vs GE']\n"
          ]
        }
      ]
    },
    {
      "cell_type": "markdown",
      "metadata": {
        "id": "jJpvq-o4a8P7"
      },
      "source": [
        "List comprehension is an elegant way to organize one or more for loops when creating a list.\n",
        "\n",
        "# Summary\n",
        "This chapter has introduced logical operations, loops, and list comprehension. In the next chapter, we will introduce functions and object-oriented programming, which will enable us to make our codes clean and versatile."
      ]
    },
    {
      "cell_type": "markdown",
      "metadata": {
        "id": "Tef_X2wJbdhn"
      },
      "source": [
        "<div align=\"center\">\n",
        "<img style=\"display: block; margin: auto;\" alt=\"photo\" src=\"https://cdn.quantconnect.com/web/i/icon.png\">\n",
        "\n",
        "Quantconnect\n",
        "\n",
        "Introduction to Financial Python\n",
        "</div>\n",
        "\n",
        "# 03 Functions and Objective-Oriented Programming\n",
        "\n",
        "# Introduction\n",
        "\n",
        "In the last tutorial we introduced logical operations, loops and list comprehension. We will introduce functions and object-oriented programming in this chapter, which will enable us to build complex algorithms in more flexible ways.\n",
        "\n",
        "# Functions\n",
        "A function is a reusable block of code. We can use a function to output a value, or do anything else we want. We can easily define our own function by using the keyword \"def\"."
      ]
    },
    {
      "cell_type": "code",
      "metadata": {
        "colab": {
          "base_uri": "https://localhost:8080/"
        },
        "id": "eE_NkTiSO2PO",
        "outputId": "78f03de0-124d-45f1-8c28-d9278cfcc661"
      },
      "source": [
        "def product(x,y): #Creamos una función que retorne el producto de dos números\n",
        "    return x*y\n",
        "print(product(2,3))\n",
        "print(product(5,10))"
      ],
      "execution_count": null,
      "outputs": [
        {
          "output_type": "stream",
          "name": "stdout",
          "text": [
            "6\n",
            "50\n"
          ]
        }
      ]
    },
    {
      "cell_type": "markdown",
      "metadata": {
        "id": "4oRU_dVJbsdD"
      },
      "source": [
        "The keyword \"def\" is followed by the function name and the parenthesized list of formal parameters. The statements that form the body of the function start at the next line, and must be indented. The product() function above has \"x\" and \"y\" as its parameters. A function doesn't necessarily have parameters:"
      ]
    },
    {
      "cell_type": "code",
      "metadata": {
        "colab": {
          "base_uri": "https://localhost:8080/"
        },
        "id": "JhdWVLbUO2PQ",
        "outputId": "0c544747-1d2c-444f-cc68-81d53a29aa66"
      },
      "source": [
        "def say_hi(): #Creamos una función que no requiere que se le ingresen parámetros\n",
        "    print('Welcome to QuantConnect')\n",
        "say_hi()"
      ],
      "execution_count": null,
      "outputs": [
        {
          "output_type": "stream",
          "name": "stdout",
          "text": [
            "Welcome to QuantConnect\n"
          ]
        }
      ]
    },
    {
      "cell_type": "markdown",
      "metadata": {
        "id": "lHwqVpWVb1Jr"
      },
      "source": [
        "# Built-in Function\n",
        "**range()** is a function that creates a list containing an arithmetic sequence. It's often used in for loops. The arguments must be integers. If the \"step\" argument is omitted, it defaults to 1."
      ]
    },
    {
      "cell_type": "code",
      "metadata": {
        "colab": {
          "base_uri": "https://localhost:8080/"
        },
        "id": "VVOTELcIO2PQ",
        "outputId": "e10ece88-517d-47b8-9ec1-ad8067e77ec1"
      },
      "source": [
        "#range(start, stop, step)\n",
        "print(range(10))\n",
        "print(range(1,11))\n",
        "print(range(1,11,2))\n",
        "print(\"\\n\") #Imprime un salto de línea\n",
        "for i in range(0,20,2): #Imprimir los números pares de 0 a 20\n",
        "  print(i)"
      ],
      "execution_count": null,
      "outputs": [
        {
          "output_type": "stream",
          "name": "stdout",
          "text": [
            "range(0, 10)\n",
            "range(1, 11)\n",
            "range(1, 11, 2)\n",
            "\n",
            "\n",
            "0\n",
            "2\n",
            "4\n",
            "6\n",
            "8\n",
            "10\n",
            "12\n",
            "14\n",
            "16\n",
            "18\n"
          ]
        }
      ]
    },
    {
      "cell_type": "markdown",
      "metadata": {
        "id": "PD0cSgiwcQ4L"
      },
      "source": [
        "**len()** is another function used together with range() to create a for loop. This function returns the length of an object. The argument must be a sequence or a collection."
      ]
    },
    {
      "cell_type": "code",
      "metadata": {
        "colab": {
          "base_uri": "https://localhost:8080/"
        },
        "id": "Hg18c7v-O2PR",
        "outputId": "149fc05e-c57a-4178-bae1-3c8cf0de98c8"
      },
      "source": [
        "tickers = ['AAPL','GOOG','IBM','FB','F','V', 'G', 'GE']\n",
        "print('The length of tickers is {}'.format(len(tickers))) #Se imprime la longitud de la lista\n",
        "for i in range(len(tickers)): #Se realiza el ciclo por cada elemento en el rango de 0 a la longitud de la lista, es decir recorre la lista\n",
        "    print(tickers[i])"
      ],
      "execution_count": null,
      "outputs": [
        {
          "output_type": "stream",
          "name": "stdout",
          "text": [
            "The length of tickers is 8\n",
            "AAPL\n",
            "GOOG\n",
            "IBM\n",
            "FB\n",
            "F\n",
            "V\n",
            "G\n",
            "GE\n"
          ]
        }
      ]
    },
    {
      "cell_type": "markdown",
      "metadata": {
        "id": "OIQSuub1cWgi"
      },
      "source": [
        "Note: If you want to print only the tickers without those numbers, then simply write \"for ticker in tickers: print ticker\"\n",
        "\n",
        "**map(**) is a function that applies a specific function to every item of a sequence or collection, and returns a list of the results."
      ]
    },
    {
      "cell_type": "markdown",
      "metadata": {
        "id": "pqPuspeG5HAi"
      },
      "source": [
        "Because list at the moment is [1,2,3,4,5] and overwriting list() from builtins we del list"
      ]
    },
    {
      "cell_type": "code",
      "metadata": {
        "colab": {
          "base_uri": "https://localhost:8080/"
        },
        "id": "caV9c-qk4_eZ",
        "outputId": "ae748a33-491e-4591-db44-28f2a521a868"
      },
      "source": [
        "list=[1,2,3,4,5]\n",
        "print(list)\n",
        "del list #Eliminamos la lista creada anteriormente\n",
        "print(list)"
      ],
      "execution_count": null,
      "outputs": [
        {
          "output_type": "stream",
          "name": "stdout",
          "text": [
            "[1, 2, 3, 4, 5]\n",
            "<class 'list'>\n"
          ]
        }
      ]
    },
    {
      "cell_type": "code",
      "metadata": {
        "colab": {
          "base_uri": "https://localhost:8080/"
        },
        "id": "lJBs5ECT4mSq",
        "outputId": "f51f2e9f-dd6d-481c-fa5e-fd31bcff9846"
      },
      "source": [
        "tickers = ['AAPL','GOOG','IBM','FB','F','V', 'G', 'GE']\n",
        "list(map(len,tickers)) #La función map realiza una misma función para cada elemento de una lista"
      ],
      "execution_count": null,
      "outputs": [
        {
          "output_type": "execute_result",
          "data": {
            "text/plain": [
              "[4, 4, 3, 2, 1, 1, 1, 2]"
            ]
          },
          "metadata": {},
          "execution_count": 27
        }
      ]
    },
    {
      "cell_type": "code",
      "metadata": {
        "colab": {
          "base_uri": "https://localhost:8080/"
        },
        "id": "78DyKVOyO2PR",
        "outputId": "c56adfae-d666-48cc-846e-d256637f920e"
      },
      "source": [
        "tickers = ['AAPL','GOOG','IBM','FB','F','V', 'G', 'GE']\n",
        "print(list(map(len,tickers))) #La función map realiza una misma función para cada elemento de una lista"
      ],
      "execution_count": null,
      "outputs": [
        {
          "output_type": "stream",
          "name": "stdout",
          "text": [
            "[4, 4, 3, 2, 1, 1, 1, 2]\n"
          ]
        }
      ]
    },
    {
      "cell_type": "markdown",
      "metadata": {
        "id": "mvr06UM7ca7b"
      },
      "source": [
        "The **lambda operator** is a way to create small anonymous functions. These functions are just needed where they have been created. For example:"
      ]
    },
    {
      "cell_type": "code",
      "metadata": {
        "colab": {
          "base_uri": "https://localhost:8080/"
        },
        "id": "pAEHADYXO2PR",
        "outputId": "3c58efa3-e232-46a5-fd92-3038c0ef5572"
      },
      "source": [
        "#La función lambda permite crear una función que se debe hacer de forma repetitiva en una sola parte del código\n",
        "list(map(lambda x: x**2, range(10))) #Lista de los cuadrados en el rango de 0 a 9"
      ],
      "execution_count": null,
      "outputs": [
        {
          "output_type": "execute_result",
          "data": {
            "text/plain": [
              "[0, 1, 4, 9, 16, 25, 36, 49, 64, 81]"
            ]
          },
          "metadata": {},
          "execution_count": 30
        }
      ]
    },
    {
      "cell_type": "markdown",
      "metadata": {
        "id": "Mgixpxomcj3T"
      },
      "source": [
        "map() can be applied to more than one list. The lists have to have the same length."
      ]
    },
    {
      "cell_type": "code",
      "metadata": {
        "colab": {
          "base_uri": "https://localhost:8080/"
        },
        "id": "HtckhAaJO2PS",
        "outputId": "faec9e05-f831-451f-faeb-ac69cc402881"
      },
      "source": [
        "list(map(lambda x, y: x+y, [1,2,3,4,5],[5,4,3,2,1])) #Se realiza la suma de Lista1[n] y Lista2[n]"
      ],
      "execution_count": null,
      "outputs": [
        {
          "output_type": "execute_result",
          "data": {
            "text/plain": [
              "[6, 6, 6, 6, 6]"
            ]
          },
          "metadata": {},
          "execution_count": 31
        }
      ]
    },
    {
      "cell_type": "markdown",
      "metadata": {
        "id": "ZDnMTH-KcklT"
      },
      "source": [
        "**sorted()** takes a list or set and returns a new sorted list"
      ]
    },
    {
      "cell_type": "code",
      "metadata": {
        "colab": {
          "base_uri": "https://localhost:8080/"
        },
        "id": "P0sHUMFWO2PS",
        "outputId": "060a3e04-1001-420f-c3ab-96ec42c13c3f"
      },
      "source": [
        "sorted([5,2,3,4,1]) #Sorted organiza los elementos de una lista de menor a mayor"
      ],
      "execution_count": null,
      "outputs": [
        {
          "output_type": "execute_result",
          "data": {
            "text/plain": [
              "[1, 2, 3, 4, 5]"
            ]
          },
          "metadata": {},
          "execution_count": 33
        }
      ]
    },
    {
      "cell_type": "markdown",
      "metadata": {
        "id": "-N5_EDOFcnsc"
      },
      "source": [
        "We can add a \"key\" parameter to specify a function to be called on each list element prior to making comparisons. For example:"
      ]
    },
    {
      "cell_type": "code",
      "metadata": {
        "colab": {
          "base_uri": "https://localhost:8080/"
        },
        "id": "0i3peZ0bO2PS",
        "outputId": "0b8b288e-1699-45c3-f529-9d355c9d04b8"
      },
      "source": [
        "#Se organiza una lista de precios de menor a mayor precio\n",
        "price_list = [('AAPL',144.09),('GOOG',911.71),('MSFT',69),('FB',150),('WMT',75.32)]\n",
        "sorted(price_list, key = lambda x: x[1]) #La llave especifíca que el valor a ordenar es el precio"
      ],
      "execution_count": null,
      "outputs": [
        {
          "output_type": "execute_result",
          "data": {
            "text/plain": [
              "[('MSFT', 69), ('WMT', 75.32), ('AAPL', 144.09), ('FB', 150), ('GOOG', 911.71)]"
            ]
          },
          "metadata": {},
          "execution_count": 34
        }
      ]
    },
    {
      "cell_type": "markdown",
      "metadata": {
        "id": "yun2zptKcxe_"
      },
      "source": [
        "By default the values are sorted by ascending order. We can change it to descending by adding an optional parameter \"reverse'."
      ]
    },
    {
      "cell_type": "code",
      "metadata": {
        "colab": {
          "base_uri": "https://localhost:8080/"
        },
        "id": "dEZqdl94O2PT",
        "outputId": "1f34bd44-014b-4ef6-b028-76127675607e"
      },
      "source": [
        "#Se organiza una lista de precios de mayor a menor precio\n",
        "price_list = [('AAPL',144.09),('GOOG',911.71),('MSFT',69),('FB',150),('WMT',75.32)]\n",
        "sorted(price_list, key = lambda x: x[1],reverse = True) #Para que el orden sea descendente se agrega el parámetro reverse=true"
      ],
      "execution_count": null,
      "outputs": [
        {
          "output_type": "execute_result",
          "data": {
            "text/plain": [
              "[('GOOG', 911.71), ('FB', 150), ('AAPL', 144.09), ('WMT', 75.32), ('MSFT', 69)]"
            ]
          },
          "metadata": {},
          "execution_count": 35
        }
      ]
    },
    {
      "cell_type": "markdown",
      "metadata": {
        "id": "OA2wYAa0c6Dn"
      },
      "source": [
        "Lists also have a function list.sort(). This function takes the same \"key\" and \"reverse\" arguments as sorted(), but it doesn't return a new list."
      ]
    },
    {
      "cell_type": "code",
      "metadata": {
        "colab": {
          "base_uri": "https://localhost:8080/"
        },
        "id": "pG9VQCLnO2PT",
        "outputId": "68bcb9c2-e458-4bda-9c28-e985003f8f4b"
      },
      "source": [
        "#.sort ordena la lista, pero la guarda en la misma variable, cuenta con los mismos parámetros que sorted, (key y reverse)\n",
        "price_list = [('AAPL',144.09),('GOOG',911.71),('MSFT',69),('FB',150),('WMT',75.32)]\n",
        "price_list.sort(key = lambda x: x[1], reverse = True)\n",
        "print(price_list)"
      ],
      "execution_count": null,
      "outputs": [
        {
          "output_type": "stream",
          "name": "stdout",
          "text": [
            "[('GOOG', 911.71), ('FB', 150), ('AAPL', 144.09), ('WMT', 75.32), ('MSFT', 69)]\n"
          ]
        }
      ]
    },
    {
      "cell_type": "markdown",
      "metadata": {
        "id": "mxljL1W1c_c5"
      },
      "source": [
        "# Object-Oriented Programming\n",
        "Python is an object-oriented programming language. It's important to understand the concept of \"objects\" because almost every kind of data from QuantConnect API is an object.\n",
        "\n",
        "## Class\n",
        "A class is a type of data, just like a string, float, or list. When we create an object of that data type, we call it an instance of a class.\n",
        "\n",
        "In Python, everything is an object - everything is an instance of some class. The data stored inside an object are called attributes, and the functions which are associated with the object are called methods.\n",
        "\n",
        "For example, as mentioned above, a list is an object of the \"list\" class, and it has a method list.sort().\n",
        "\n",
        "We can create our own objects by defining a class. We would do this when it's helpful to group certain functions together. For example, we define a class named \"Stock\" here:"
      ]
    },
    {
      "cell_type": "code",
      "metadata": {
        "id": "zC4Y4PgDO2PT"
      },
      "source": [
        "#Se crea la clase stock con los métodos init, update y print_return\n",
        "class stock:\n",
        "    def __init__(self, ticker, open, close, volume): #Para crear un objeto de esta clase se inicializa con los parámetros que se necesitan\n",
        "        self.ticker = ticker\n",
        "        self.open = open\n",
        "        self.close = close\n",
        "        self.volume = volume\n",
        "        self.rate_return = float(close)/open - 1\n",
        " \n",
        "    def update(self, open, close): #Se actualizan los datos de algunos argumentos de la clase\n",
        "        self.open = open\n",
        "        self.close = close\n",
        "        self.rate_return = float(self.close)/self.open - 1\n",
        " \n",
        "    def print_return(self): #Se imprime la tasa de rendimiento\n",
        "        print(self.rate_return)"
      ],
      "execution_count": 21,
      "outputs": []
    },
    {
      "cell_type": "markdown",
      "metadata": {
        "id": "rV06INT5dETi"
      },
      "source": [
        "The \"Stock\" class has attributes \"ticker\", \"open\", \"close\", \"volume\" and \"rate_return\". Inside the class body, the first method is called __init__, which is a special method. When we create a new instance of the class, the __init__ method is immediately executed with all the parameters that we pass to the \"Stock\" object. The purpose of this method is to set up a new \"Stock\" object using data we have provided.\n",
        "\n",
        "Here we create two Stock objects named \"apple\" and \"google\"."
      ]
    },
    {
      "cell_type": "code",
      "metadata": {
        "id": "8tIpNk93O2PU"
      },
      "source": [
        "#Se crean instancias de la clase stock\n",
        "apple = stock('AAPL', 143.69, 144.09, 20109375)\n",
        "google = stock('GOOG', 898.7, 911.7, 1561616)"
      ],
      "execution_count": 40,
      "outputs": []
    },
    {
      "cell_type": "markdown",
      "metadata": {
        "id": "VxmELNiHdPKS"
      },
      "source": [
        "Stock objects also have two other methods: update() and print_return(). We can access the attribues of a Stock object and call its methods:"
      ]
    },
    {
      "cell_type": "code",
      "metadata": {
        "colab": {
          "base_uri": "https://localhost:8080/"
        },
        "id": "SsiIkmekO2PU",
        "outputId": "fc1de2a4-baea-4774-c7dc-2c0f60f68351"
      },
      "source": [
        "#Llamamos a los métodos que necesitamos para los objetos ya creados, se pone el nombre del objeto con un punto seguido del método a usar\n",
        "print(apple.ticker)\n",
        "google.print_return()\n",
        "google.update(912.8,913.4)\n",
        "google.print_return()"
      ],
      "execution_count": 45,
      "outputs": [
        {
          "output_type": "stream",
          "name": "stdout",
          "text": [
            "AAPL\n",
            "0.0006573181419806673\n",
            "0.0006573181419806673\n"
          ]
        }
      ]
    },
    {
      "cell_type": "markdown",
      "metadata": {
        "id": "Q8fl7keNdVKF"
      },
      "source": [
        "By calling the update() function, we updated the open and close prices of a stock. Please note that when we use the attributes or call the methods **inside a class**, we need to specify them as self.attribute or self.method(), otherwise Python will deem them as global variables and thus raise an error.\n",
        "\n",
        "We can add an attribute to an object anywhere:"
      ]
    },
    {
      "cell_type": "code",
      "metadata": {
        "colab": {
          "base_uri": "https://localhost:8080/",
          "height": 35
        },
        "id": "rO4OLnqOO2PU",
        "outputId": "6fd7d643-d265-4731-bc0e-97d203e4137c"
      },
      "source": [
        "apple.ceo = 'Tim Cook' #Se añade el atributo ceo\n",
        "apple.ceo"
      ],
      "execution_count": 46,
      "outputs": [
        {
          "output_type": "execute_result",
          "data": {
            "text/plain": [
              "'Tim Cook'"
            ],
            "application/vnd.google.colaboratory.intrinsic+json": {
              "type": "string"
            }
          },
          "metadata": {},
          "execution_count": 46
        }
      ]
    },
    {
      "cell_type": "markdown",
      "metadata": {
        "id": "WyfnFgVidh4J"
      },
      "source": [
        "We can check what names (i.e. attributes and methods) are defined on an object using the dir() function:"
      ]
    },
    {
      "cell_type": "code",
      "metadata": {
        "colab": {
          "base_uri": "https://localhost:8080/"
        },
        "id": "pPoz0LA8O2PU",
        "outputId": "f0e83d0b-05bb-4b19-f037-f96465c7d795"
      },
      "source": [
        "dir(apple) #La función dir nos indica qué atributos y métodos posee nuestro objeto"
      ],
      "execution_count": 47,
      "outputs": [
        {
          "output_type": "execute_result",
          "data": {
            "text/plain": [
              "['__class__',\n",
              " '__delattr__',\n",
              " '__dict__',\n",
              " '__dir__',\n",
              " '__doc__',\n",
              " '__eq__',\n",
              " '__format__',\n",
              " '__ge__',\n",
              " '__getattribute__',\n",
              " '__gt__',\n",
              " '__hash__',\n",
              " '__init__',\n",
              " '__init_subclass__',\n",
              " '__le__',\n",
              " '__lt__',\n",
              " '__module__',\n",
              " '__ne__',\n",
              " '__new__',\n",
              " '__reduce__',\n",
              " '__reduce_ex__',\n",
              " '__repr__',\n",
              " '__setattr__',\n",
              " '__sizeof__',\n",
              " '__str__',\n",
              " '__subclasshook__',\n",
              " '__weakref__',\n",
              " 'ceo',\n",
              " 'close',\n",
              " 'open',\n",
              " 'print_return',\n",
              " 'rate_return',\n",
              " 'ticker',\n",
              " 'update',\n",
              " 'volume']"
            ]
          },
          "metadata": {},
          "execution_count": 47
        }
      ]
    },
    {
      "cell_type": "markdown",
      "metadata": {
        "id": "Qpemj1UZd2aa"
      },
      "source": [
        "## Inheritance\n",
        "Inheritance is a way of arranging classes in a hierarchy from the most general to the most specific. A \"child\" class is a more specific type of a \"parent\" class because a child class will inherit all the attribues and methods of its parent. For example, we define a class named \"Child\" which inherits \"Stock\":"
      ]
    },
    {
      "cell_type": "code",
      "metadata": {
        "id": "UELXnxomO2PV"
      },
      "source": [
        "class child(stock): #Se crea una clase hijo de la clase stock\n",
        "    def __init__(self,name):\n",
        "        self.name = name"
      ],
      "execution_count": 52,
      "outputs": []
    },
    {
      "cell_type": "code",
      "metadata": {
        "colab": {
          "base_uri": "https://localhost:8080/"
        },
        "id": "ffS2THZyO2PV",
        "outputId": "d059de30-c59a-433f-9037-f3666473c78b"
      },
      "source": [
        "aa = child('aa') #La clase hijo tiene los mismo atributos que la clase stock\n",
        "print(aa.name)\n",
        "aa.update(100,102)\n",
        "print(aa.open)\n",
        "print(aa.close)\n",
        "print(aa.print_return())"
      ],
      "execution_count": 51,
      "outputs": [
        {
          "output_type": "stream",
          "name": "stdout",
          "text": [
            "aa\n",
            "100\n",
            "102\n",
            "0.020000000000000018\n",
            "None\n"
          ]
        }
      ]
    },
    {
      "cell_type": "markdown",
      "metadata": {
        "id": "pdIEjUv2eJqL"
      },
      "source": [
        "As seen above, the new class Child has inherited the methods from Stock.\n",
        "\n",
        "#Summary\n",
        "\n",
        "In this chapter we have introduced functions and classes. When we write a QuantConnect algorithm, we would define our algorithm as a class (QCAlgorithm). This means our algorithm inherited the QC API methods from QCAlgorithm class.\n",
        "\n",
        "In the next chapter, we will introduce NumPy and Pandas, which enable us to conduct scientific calculations in Python."
      ]
    },
    {
      "cell_type": "markdown",
      "metadata": {
        "id": "dQbENH6mexTd"
      },
      "source": [
        "<div align=\"center\">\n",
        "<img style=\"display: block; margin: auto;\" alt=\"photo\" src=\"https://cdn.quantconnect.com/web/i/icon.png\">\n",
        "\n",
        "Quantconnect\n",
        "\n",
        "Introduction to Financial Python\n",
        "</div>\n",
        "\n",
        "# 04 NumPy and Basic Pandas\n",
        "\n",
        "# Introduction\n",
        "\n",
        "Now that we have introduced the fundamentals of Python, it's time to learn about NumPy and Pandas.\n",
        "\n",
        "# NumPy\n",
        "NumPy is the core library for scientific computing in Python. It provides a high-performance multidimensional array object, and tools for working with these arrays. It also has strong integration with Pandas, which is another powerful tool for manipulating financial data.\n",
        "\n",
        "Python packages like NumPy and Pandas contain classes and methods which we can use by importing the package:"
      ]
    },
    {
      "cell_type": "code",
      "metadata": {
        "id": "aIESp-rdO58h"
      },
      "source": [
        "import numpy as np #Importamos la libería numpy y la llamamos np"
      ],
      "execution_count": 54,
      "outputs": []
    },
    {
      "cell_type": "markdown",
      "metadata": {
        "id": "GScHHJ5ke7ea"
      },
      "source": [
        "## Basic NumPy Arrays\n",
        "A NumPy array is a grid of values, all of the same type, and is indexed by a tuple of nonnegative integers. Here we make an array by passing a list of Apple stock prices:"
      ]
    },
    {
      "cell_type": "code",
      "metadata": {
        "colab": {
          "base_uri": "https://localhost:8080/"
        },
        "id": "lZI1wkwDO58i",
        "outputId": "72ec2ca2-9554-4d23-ab85-7008517b24e2"
      },
      "source": [
        "price_list = [143.73, 145.83, 143.68, 144.02, 143.5, 142.62]\n",
        "price_array = np.array(price_list) #Convertimos la lista en un arreglo de tipo numpy\n",
        "print(price_array, type(price_array)) "
      ],
      "execution_count": 59,
      "outputs": [
        {
          "output_type": "stream",
          "name": "stdout",
          "text": [
            "[143.73 145.83 143.68 144.02 143.5  142.62] <class 'numpy.ndarray'>\n"
          ]
        }
      ]
    },
    {
      "cell_type": "markdown",
      "metadata": {
        "id": "-5Yj6u9ifB-t"
      },
      "source": [
        "Notice that the type of array is \"ndarray\" which is a multi-dimensional array. If we pass np.array() a list of lists, it will create a 2-dimensional array."
      ]
    },
    {
      "cell_type": "code",
      "metadata": {
        "colab": {
          "base_uri": "https://localhost:8080/"
        },
        "id": "obvIZrK-O58j",
        "outputId": "abbebb49-3782-4f19-c913-17e14bb3632d"
      },
      "source": [
        "Ar = np.array([[1,3,1],[2,5,6]]) #Al convertir una lista de listas en un arreglo, esta se convierte en un arreglo bidimensional\n",
        "print(Ar, type(Ar))"
      ],
      "execution_count": 64,
      "outputs": [
        {
          "output_type": "stream",
          "name": "stdout",
          "text": [
            "[[1 3 1]\n",
            " [2 5 6]] <class 'numpy.ndarray'>\n"
          ]
        }
      ]
    },
    {
      "cell_type": "markdown",
      "metadata": {
        "id": "uDdfLD9HfHkl"
      },
      "source": [
        "We get the dimensions of an ndarray using the .shape attribute:"
      ]
    },
    {
      "cell_type": "code",
      "metadata": {
        "colab": {
          "base_uri": "https://localhost:8080/"
        },
        "id": "G2txdn73O58j",
        "outputId": "1b48c852-bada-4548-dcfc-373f7832c39e"
      },
      "source": [
        "print(Ar.shape) #shape nos permite saber las dimensiones del arreglo (filas,columnas)"
      ],
      "execution_count": 65,
      "outputs": [
        {
          "output_type": "stream",
          "name": "stdout",
          "text": [
            "(2, 3)\n"
          ]
        }
      ]
    },
    {
      "cell_type": "markdown",
      "metadata": {
        "id": "87W5ueORfPEy"
      },
      "source": [
        "If we create an 2-dimensional array (i.e. matrix), each row can be accessed by index:"
      ]
    },
    {
      "cell_type": "code",
      "metadata": {
        "colab": {
          "base_uri": "https://localhost:8080/"
        },
        "id": "x_QV9aPbO58j",
        "outputId": "235da4e1-6a00-4958-96ec-211ccf8b5bf1"
      },
      "source": [
        "#Al tener una matriz, podemos acceder a cada fila por su índice\n",
        "print(Ar[0])\n",
        "print(Ar[1])"
      ],
      "execution_count": 66,
      "outputs": [
        {
          "output_type": "stream",
          "name": "stdout",
          "text": [
            "[1 3 1]\n",
            "[2 5 6]\n"
          ]
        }
      ]
    },
    {
      "cell_type": "markdown",
      "metadata": {
        "id": "5Hke7Vt-fSGB"
      },
      "source": [
        "If we want to access the matrix by column instead:"
      ]
    },
    {
      "cell_type": "code",
      "metadata": {
        "colab": {
          "base_uri": "https://localhost:8080/"
        },
        "id": "gHVwbPfOO58j",
        "outputId": "2e57739f-3fe4-4e2d-e0cf-f319808e52ce"
      },
      "source": [
        "#Para acceder a las columnas usamos Array[:,i]\n",
        "print('the first column: ', Ar[:,0])\n",
        "print('the second column: ', Ar[:,1])\n",
        "print('the third column: ', Ar[:,2])"
      ],
      "execution_count": 68,
      "outputs": [
        {
          "output_type": "stream",
          "name": "stdout",
          "text": [
            "the first column:  [1 2]\n",
            "the second column:  [3 5]\n",
            "the third column:  [1 6]\n"
          ]
        }
      ]
    },
    {
      "cell_type": "markdown",
      "metadata": {
        "id": "T61cD0HMfStB"
      },
      "source": [
        "## Array Functions\n",
        "Some functions built in NumPy that allow us to perform calculations on arrays. For example, we can apply the natural logarithm to each element of an array:"
      ]
    },
    {
      "cell_type": "code",
      "metadata": {
        "colab": {
          "base_uri": "https://localhost:8080/"
        },
        "id": "PKhwtJ7XO58k",
        "outputId": "a7693cba-d014-456e-86bb-e1c25f664bfe"
      },
      "source": [
        "#Con la función log de numpy podemos hallar el logaritmo natural de cada elemento del arreglo\n",
        "print(np.log(price_array))\n",
        "print(\"\\n\")\n",
        "print(np.log(Ar))"
      ],
      "execution_count": 72,
      "outputs": [
        {
          "output_type": "stream",
          "name": "stdout",
          "text": [
            "[4.96793654 4.98244156 4.9675886  4.96995218 4.96633504 4.96018375]\n",
            "\n",
            "\n",
            "[[0.         1.09861229 0.        ]\n",
            " [0.69314718 1.60943791 1.79175947]]\n"
          ]
        }
      ]
    },
    {
      "cell_type": "markdown",
      "metadata": {
        "id": "uzjBRFBLfZ-D"
      },
      "source": [
        "Other functions return a single value:"
      ]
    },
    {
      "cell_type": "code",
      "metadata": {
        "colab": {
          "base_uri": "https://localhost:8080/"
        },
        "id": "nQuABZqUO58k",
        "outputId": "1eceae54-0fdc-47e2-c46b-47bab47f3847"
      },
      "source": [
        "print(np.mean(price_array)) #Hallar el promedio\n",
        "print(np.std(price_array)) #Hallar la desviación estándar\n",
        "print(np.sum(price_array)) #Hallar la suma de todos los elementos\n",
        "print(np.max(price_array)) #Hallar el máximo valor del arreglo\n",
        "print(\"\\n\")\n",
        "print(np.mean(Ar)) #Hallar el promedio\n",
        "print(np.std(Ar)) #Hallar la desviación estándar\n",
        "print(np.sum(Ar)) #Hallar la suma de todos los elementos\n",
        "print(np.max(Ar)) #Hallar el máximo valor del arreglo"
      ],
      "execution_count": 74,
      "outputs": [
        {
          "output_type": "stream",
          "name": "stdout",
          "text": [
            "143.89666666666668\n",
            "0.9673790478515796\n",
            "863.38\n",
            "145.83\n",
            "\n",
            "\n",
            "3.0\n",
            "1.9148542155126762\n",
            "18\n",
            "6\n"
          ]
        }
      ]
    },
    {
      "cell_type": "markdown",
      "metadata": {
        "id": "IRW95BsifgDB"
      },
      "source": [
        "The functions above return the mean, standard deviation, total and maximum value of an array.\n",
        "\n",
        "# Pandas\n",
        "Pandas is one of the most powerful tools for dealing with financial data. \n",
        "\n",
        "First we need to import Pandas:"
      ]
    },
    {
      "cell_type": "code",
      "metadata": {
        "id": "xIYH4oUfO58k"
      },
      "source": [
        "import pandas as pd #Importamos la librería pandas y la llamamos pd"
      ],
      "execution_count": 76,
      "outputs": []
    },
    {
      "cell_type": "markdown",
      "metadata": {
        "id": "zOig5gORfnJU"
      },
      "source": [
        "## Series\n",
        "Series is a one-dimensional labeled array capable of holding any data type (integers, strings, float, Python object, etc.)\n",
        "\n",
        "We create a Series by calling pd.Series(data), where data can be a dictionary, an array or just a scalar value."
      ]
    },
    {
      "cell_type": "code",
      "metadata": {
        "colab": {
          "base_uri": "https://localhost:8080/"
        },
        "id": "JmzoNzrPO58k",
        "outputId": "ad3ab922-1b50-49d4-b570-291372d9717f"
      },
      "source": [
        "price = [143.73, 145.83, 143.68, 144.02, 143.5, 142.62]\n",
        "s = pd.Series(price) #Convertimos la lista en un array con etiquetas de eje\n",
        "s"
      ],
      "execution_count": 77,
      "outputs": [
        {
          "output_type": "execute_result",
          "data": {
            "text/plain": [
              "0    143.73\n",
              "1    145.83\n",
              "2    143.68\n",
              "3    144.02\n",
              "4    143.50\n",
              "5    142.62\n",
              "dtype: float64"
            ]
          },
          "metadata": {},
          "execution_count": 77
        }
      ]
    },
    {
      "cell_type": "markdown",
      "metadata": {
        "id": "tP5iDnunfq46"
      },
      "source": [
        "We can customize the indices of a new Series:"
      ]
    },
    {
      "cell_type": "code",
      "metadata": {
        "colab": {
          "base_uri": "https://localhost:8080/"
        },
        "id": "eswQC3ZPO58l",
        "outputId": "28d5f366-eadf-4524-f23f-9ef2e64a49f2"
      },
      "source": [
        "s = pd.Series(price,index = ['a','b','c','d','e','f']) #En las series podemos cambiar el nombre de nuestros índices\n",
        "s"
      ],
      "execution_count": 78,
      "outputs": [
        {
          "output_type": "execute_result",
          "data": {
            "text/plain": [
              "a    143.73\n",
              "b    145.83\n",
              "c    143.68\n",
              "d    144.02\n",
              "e    143.50\n",
              "f    142.62\n",
              "dtype: float64"
            ]
          },
          "metadata": {},
          "execution_count": 78
        }
      ]
    },
    {
      "cell_type": "markdown",
      "metadata": {
        "id": "wdZrb8pEfuua"
      },
      "source": [
        "Or we can change the indices of an existing Series:"
      ]
    },
    {
      "cell_type": "code",
      "metadata": {
        "colab": {
          "base_uri": "https://localhost:8080/"
        },
        "id": "MwlRnPF6O58l",
        "outputId": "ca29316c-799f-4803-e6ce-eb0b65637fff"
      },
      "source": [
        "s.index = [6,5,4,3,2,1] #Cambiamos los índices de una serie que ya había sido creada\n",
        "s"
      ],
      "execution_count": 79,
      "outputs": [
        {
          "output_type": "execute_result",
          "data": {
            "text/plain": [
              "6    143.73\n",
              "5    145.83\n",
              "4    143.68\n",
              "3    144.02\n",
              "2    143.50\n",
              "1    142.62\n",
              "dtype: float64"
            ]
          },
          "metadata": {},
          "execution_count": 79
        }
      ]
    },
    {
      "cell_type": "markdown",
      "metadata": {
        "id": "6cGNQZwLfxIz"
      },
      "source": [
        "Series is like a list since it can be sliced by index:"
      ]
    },
    {
      "cell_type": "code",
      "metadata": {
        "colab": {
          "base_uri": "https://localhost:8080/"
        },
        "id": "N9bBSg6cO58l",
        "outputId": "50bbf164-ffb8-41cf-e563-2a93441fdb26"
      },
      "source": [
        "print(s[1:]) #Imprimimos la serie desde el segundo elemento\n",
        "print(s[:-2]) #Imprimimos la serie hasta el antepenúltimo elemento"
      ],
      "execution_count": 81,
      "outputs": [
        {
          "output_type": "stream",
          "name": "stdout",
          "text": [
            "5    145.83\n",
            "4    143.68\n",
            "3    144.02\n",
            "2    143.50\n",
            "1    142.62\n",
            "dtype: float64\n",
            "6    143.73\n",
            "5    145.83\n",
            "4    143.68\n",
            "3    144.02\n",
            "dtype: float64\n"
          ]
        }
      ]
    },
    {
      "cell_type": "markdown",
      "metadata": {
        "id": "5V25nViZfz3Z"
      },
      "source": [
        "Series is also like a dictionary whose values can be set or fetched by index label:"
      ]
    },
    {
      "cell_type": "code",
      "metadata": {
        "colab": {
          "base_uri": "https://localhost:8080/"
        },
        "id": "b3Y0kKGYO58l",
        "outputId": "68c64364-5aaf-43a2-fc93-e840e08fe31b"
      },
      "source": [
        "print(s[4])\n",
        "s[4] = 0 #Cambiamos el valor del elemento guardado con el índice 4\n",
        "print(s)"
      ],
      "execution_count": 83,
      "outputs": [
        {
          "output_type": "stream",
          "name": "stdout",
          "text": [
            "0.0\n",
            "6    143.73\n",
            "5    145.83\n",
            "4      0.00\n",
            "3    144.02\n",
            "2    143.50\n",
            "1    142.62\n",
            "dtype: float64\n"
          ]
        }
      ]
    },
    {
      "cell_type": "markdown",
      "metadata": {
        "id": "RQ1P7Gkyf060"
      },
      "source": [
        "Series can also have a name attribute, which will be used when we make up a Pandas DataFrame using several series."
      ]
    },
    {
      "cell_type": "code",
      "metadata": {
        "colab": {
          "base_uri": "https://localhost:8080/"
        },
        "id": "ZeD4-p7KO58m",
        "outputId": "973370f2-648c-4055-c62e-f715bbd1f2ef"
      },
      "source": [
        "s = pd.Series(price, name = 'Apple Price List') #Podemos llamar a las series con un nombre\n",
        "print(s)\n",
        "print(s.name)"
      ],
      "execution_count": 85,
      "outputs": [
        {
          "output_type": "stream",
          "name": "stdout",
          "text": [
            "0    143.73\n",
            "1    145.83\n",
            "2    143.68\n",
            "3    144.02\n",
            "4    143.50\n",
            "5    142.62\n",
            "Name: Apple Price List, dtype: float64\n",
            "Apple Price List\n"
          ]
        }
      ]
    },
    {
      "cell_type": "markdown",
      "metadata": {
        "id": "geJb1pGHf5Et"
      },
      "source": [
        "We can get the statistical summaries of a Series:"
      ]
    },
    {
      "cell_type": "code",
      "metadata": {
        "colab": {
          "base_uri": "https://localhost:8080/"
        },
        "id": "mGPtFcjegm4i",
        "outputId": "b8c59a75-1642-4839-8b94-a3801badfd10"
      },
      "source": [
        "print(s.describe()) #Describe nos muestra un resumen estadístico de nuestra serie"
      ],
      "execution_count": 86,
      "outputs": [
        {
          "output_type": "stream",
          "name": "stdout",
          "text": [
            "count      6.000000\n",
            "mean     143.896667\n",
            "std        1.059711\n",
            "min      142.620000\n",
            "25%      143.545000\n",
            "50%      143.705000\n",
            "75%      143.947500\n",
            "max      145.830000\n",
            "Name: Apple Price List, dtype: float64\n"
          ]
        }
      ]
    },
    {
      "cell_type": "markdown",
      "metadata": {
        "id": "LkdZu-CDgvlR"
      },
      "source": [
        "## Time Index\n",
        "Pandas has a built-in function specifically for creating date indices: pd.date_range(). We use it to create a new index for our Series:"
      ]
    },
    {
      "cell_type": "code",
      "metadata": {
        "colab": {
          "base_uri": "https://localhost:8080/"
        },
        "id": "HJe5hU4zO58m",
        "outputId": "50ac6c49-9bc2-4ff2-bc83-4f244bab0e54"
      },
      "source": [
        "#Con la función date_range creamos índices de fechas desde una fecha que queramos hasta que se termine la serie, y podemos modificar con qué frecuencia varía\n",
        "time_index = pd.date_range('2017-01-01',periods = len(s),freq = 'D')\n",
        "print(time_index)\n",
        "s.index = time_index #Los nuevos índices serán las fechas establecidas\n",
        "print(s)"
      ],
      "execution_count": 96,
      "outputs": [
        {
          "output_type": "stream",
          "name": "stdout",
          "text": [
            "DatetimeIndex(['2017-01-01', '2017-01-02', '2017-01-03', '2017-01-04',\n",
            "               '2017-01-05', '2017-01-06'],\n",
            "              dtype='datetime64[ns]', freq='D')\n",
            "2017-01-01    143.73\n",
            "2017-01-02    145.83\n",
            "2017-01-03    143.68\n",
            "2017-01-04    144.02\n",
            "2017-01-05    143.50\n",
            "2017-01-06    142.62\n",
            "Freq: D, Name: Apple Price List, dtype: float64\n"
          ]
        }
      ]
    },
    {
      "cell_type": "markdown",
      "metadata": {
        "id": "7WedejFZg19J"
      },
      "source": [
        "Series are usually accessed using the iloc[] and loc[] methods. iloc[] is used to access elements by integer index, and loc[] is used to access the index of the series.\n",
        "\n",
        "iloc[] is necessary when the index of a series are integers, take our previous defined series as example:"
      ]
    },
    {
      "cell_type": "code",
      "metadata": {
        "colab": {
          "base_uri": "https://localhost:8080/"
        },
        "id": "KrVSOyMvO58m",
        "outputId": "477c809e-8048-4fda-a82d-d8bd52acf0ad"
      },
      "source": [
        "s.index = [6,5,4,3,2,1]\n",
        "print(s)\n",
        "print(s[1]) #Imprime el valor del elemento guardado con el índice 1"
      ],
      "execution_count": 93,
      "outputs": [
        {
          "output_type": "stream",
          "name": "stdout",
          "text": [
            "6    143.73\n",
            "5    145.83\n",
            "4    143.68\n",
            "3    144.02\n",
            "2    143.50\n",
            "1    142.62\n",
            "Name: Apple Price List, dtype: float64\n",
            "142.62\n"
          ]
        }
      ]
    },
    {
      "cell_type": "markdown",
      "metadata": {
        "id": "r30VKPtpg61p"
      },
      "source": [
        "If we intended to take the second element of the series, we would make a mistake here, because the index are integers. In order to access to the element we want, we use iloc[] here:"
      ]
    },
    {
      "cell_type": "code",
      "metadata": {
        "colab": {
          "base_uri": "https://localhost:8080/"
        },
        "id": "bHukfaAmO58m",
        "outputId": "556193f0-6e6a-4a05-92b5-6aa817a83616"
      },
      "source": [
        "print(s.iloc[1]) #Imprime el segundo elemento de la serie"
      ],
      "execution_count": 94,
      "outputs": [
        {
          "output_type": "stream",
          "name": "stdout",
          "text": [
            "145.83\n"
          ]
        }
      ]
    },
    {
      "cell_type": "markdown",
      "metadata": {
        "id": "kHVBRL_Rg84j"
      },
      "source": [
        "While working with time series data, we often use time as the index. Pandas provides us with various methods to access the data by time index"
      ]
    },
    {
      "cell_type": "code",
      "metadata": {
        "colab": {
          "base_uri": "https://localhost:8080/"
        },
        "id": "FCf8Hg7jO58n",
        "outputId": "fbc954c8-0239-4150-c003-d74a8c2f1f86"
      },
      "source": [
        "s.index = time_index\n",
        "print(s['2017-01-03']) #Imprime el valor del elemento con ese índice de tiempo"
      ],
      "execution_count": 98,
      "outputs": [
        {
          "output_type": "stream",
          "name": "stdout",
          "text": [
            "143.68\n"
          ]
        }
      ]
    },
    {
      "cell_type": "markdown",
      "metadata": {
        "id": "XJXcrSFpg-To"
      },
      "source": [
        "We can even access to a range of dates:"
      ]
    },
    {
      "cell_type": "code",
      "metadata": {
        "colab": {
          "base_uri": "https://localhost:8080/"
        },
        "id": "NsE-Lr_9O58n",
        "outputId": "7ba38ea7-0d92-40a5-acdd-311f6b435991"
      },
      "source": [
        "print(s['2017-01-02':'2017-01-05']) #Imprime los valores de los elementos en ese rango de tiempo"
      ],
      "execution_count": 99,
      "outputs": [
        {
          "output_type": "stream",
          "name": "stdout",
          "text": [
            "2017-01-02    145.83\n",
            "2017-01-03    143.68\n",
            "2017-01-04    144.02\n",
            "2017-01-05    143.50\n",
            "Freq: D, Name: Apple Price List, dtype: float64\n"
          ]
        }
      ]
    },
    {
      "cell_type": "markdown",
      "metadata": {
        "id": "cWA3NCXEhCLB"
      },
      "source": [
        "Series[] provides us a very flexible way to index data. We can add any condition in the square brackets:"
      ]
    },
    {
      "cell_type": "code",
      "metadata": {
        "colab": {
          "base_uri": "https://localhost:8080/"
        },
        "id": "aawbrg2EO58n",
        "outputId": "8881b84a-c15c-4eab-90a3-dcd738871fd5"
      },
      "source": [
        "#Imprimimos los elementos que necesitemos según las condiciones estadísticas que cumplan.\n",
        "print(s[s < np.mean(s)] )\n",
        "print([(s > np.mean(s)) & (s < np.mean(s) + 1.64*np.std(s))])"
      ],
      "execution_count": 100,
      "outputs": [
        {
          "output_type": "stream",
          "name": "stdout",
          "text": [
            "2017-01-01    143.73\n",
            "2017-01-03    143.68\n",
            "2017-01-05    143.50\n",
            "2017-01-06    142.62\n",
            "Name: Apple Price List, dtype: float64\n",
            "[2017-01-01    False\n",
            "2017-01-02    False\n",
            "2017-01-03    False\n",
            "2017-01-04     True\n",
            "2017-01-05    False\n",
            "2017-01-06    False\n",
            "Freq: D, Name: Apple Price List, dtype: bool]\n"
          ]
        }
      ]
    },
    {
      "cell_type": "markdown",
      "metadata": {
        "id": "jAByChIwhEuI"
      },
      "source": [
        "As demonstrated, we can use logical operators like & (and), | (or) and ~ (not) to group multiple conditions.\n",
        "\n",
        "# Summary\n",
        "Here we have introduced NumPy and Pandas for scientific computing in Python. In the next chapter, we will dive into Pandas to learn resampling and manipulating Pandas DataFrame, which are commonly used in financial data analysis."
      ]
    },
    {
      "cell_type": "markdown",
      "metadata": {
        "id": "OtjOpw6oJp6z"
      },
      "source": [
        "<div align=\"center\">\n",
        "<img style=\"display: block; margin: auto;\" alt=\"photo\" src=\"https://cdn.quantconnect.com/web/i/icon.png\"> <img style=\"display: block; margin: auto;\" alt=\"photo\" src=\"https://www.marketing-branding.com/wp-content/uploads/2020/07/google-colaboratory-colab-guia-completa.jpg \" width=\"50\" height=\"50\">\n",
        "<img style=\"display: block; margin: auto;\" alt=\"photo\" src=\"https://upload.wikimedia.org/wikipedia/commons/d/da/Yahoo_Finance_Logo_2019.svg\" width=\"50\" height=\"50\">  \n",
        "\n",
        "Quantconnect -> Google Colab with Yahoo Finance data\n",
        "\n",
        "Introduction to Financial Python\n",
        "</div>\n",
        "\n",
        "# 05 Pandas-Resampling and DataFrame\n",
        "\n",
        "# Introduction\n",
        "In the last chapter we had a glimpse of Pandas. In this chapter we will learn about resampling methods and the DataFrame object, which is a powerful tool for financial data analysis.\n",
        "\n",
        "# Fetching Data\n",
        "Here we use the Yahoo Finance to retrieve data.\n"
      ]
    },
    {
      "cell_type": "code",
      "metadata": {
        "colab": {
          "base_uri": "https://localhost:8080/"
        },
        "id": "luU8mZTsHW9x",
        "outputId": "fe491b5f-1058-419c-ad58-9c838cce62d4"
      },
      "source": [
        "!pip install yfinance #Instalamos yfinance para recuperar datos"
      ],
      "execution_count": 1,
      "outputs": [
        {
          "output_type": "stream",
          "name": "stdout",
          "text": [
            "Looking in indexes: https://pypi.org/simple, https://us-python.pkg.dev/colab-wheels/public/simple/\n",
            "Requirement already satisfied: yfinance in /usr/local/lib/python3.7/dist-packages (0.1.74)\n",
            "Requirement already satisfied: lxml>=4.5.1 in /usr/local/lib/python3.7/dist-packages (from yfinance) (4.9.1)\n",
            "Requirement already satisfied: multitasking>=0.0.7 in /usr/local/lib/python3.7/dist-packages (from yfinance) (0.0.11)\n",
            "Requirement already satisfied: pandas>=0.24.0 in /usr/local/lib/python3.7/dist-packages (from yfinance) (1.3.5)\n",
            "Requirement already satisfied: requests>=2.26 in /usr/local/lib/python3.7/dist-packages (from yfinance) (2.28.1)\n",
            "Requirement already satisfied: numpy>=1.15 in /usr/local/lib/python3.7/dist-packages (from yfinance) (1.21.6)\n",
            "Requirement already satisfied: python-dateutil>=2.7.3 in /usr/local/lib/python3.7/dist-packages (from pandas>=0.24.0->yfinance) (2.8.2)\n",
            "Requirement already satisfied: pytz>=2017.3 in /usr/local/lib/python3.7/dist-packages (from pandas>=0.24.0->yfinance) (2022.2.1)\n",
            "Requirement already satisfied: six>=1.5 in /usr/local/lib/python3.7/dist-packages (from python-dateutil>=2.7.3->pandas>=0.24.0->yfinance) (1.15.0)\n",
            "Requirement already satisfied: idna<4,>=2.5 in /usr/local/lib/python3.7/dist-packages (from requests>=2.26->yfinance) (2.10)\n",
            "Requirement already satisfied: charset-normalizer<3,>=2 in /usr/local/lib/python3.7/dist-packages (from requests>=2.26->yfinance) (2.1.0)\n",
            "Requirement already satisfied: certifi>=2017.4.17 in /usr/local/lib/python3.7/dist-packages (from requests>=2.26->yfinance) (2022.6.15)\n",
            "Requirement already satisfied: urllib3<1.27,>=1.21.1 in /usr/local/lib/python3.7/dist-packages (from requests>=2.26->yfinance) (1.24.3)\n"
          ]
        }
      ]
    },
    {
      "cell_type": "code",
      "metadata": {
        "colab": {
          "base_uri": "https://localhost:8080/",
          "height": 492
        },
        "id": "mWZ-nirTZHrE",
        "outputId": "b4424f16-a4ce-473c-aa4e-2d19d91a7d40"
      },
      "source": [
        "import yfinance as yf\n",
        "\n",
        "aapl = yf.Ticker(\"AAPL\")\n",
        "\n",
        "# get stock info\n",
        "print(aapl.info)\n",
        "\n",
        "# get historical market data\n",
        "aapl_table = aapl.history(start=\"2016-01-01\",  end=\"2017-12-31\")\n",
        "aapl_table"
      ],
      "execution_count": 3,
      "outputs": [
        {
          "output_type": "stream",
          "name": "stdout",
          "text": [
            "{'zip': '95014', 'sector': 'Technology', 'fullTimeEmployees': 154000, 'longBusinessSummary': 'Apple Inc. designs, manufactures, and markets smartphones, personal computers, tablets, wearables, and accessories worldwide. It also sells various related services. In addition, the company offers iPhone, a line of smartphones; Mac, a line of personal computers; iPad, a line of multi-purpose tablets; AirPods Max, an over-ear wireless headphone; and wearables, home, and accessories comprising AirPods, Apple TV, Apple Watch, Beats products, HomePod, and iPod touch. Further, it provides AppleCare support services; cloud services store services; and operates various platforms, including the App Store that allow customers to discover and download applications and digital content, such as books, music, video, games, and podcasts. Additionally, the company offers various services, such as Apple Arcade, a game subscription service; Apple Music, which offers users a curated listening experience with on-demand radio stations; Apple News+, a subscription news and magazine service; Apple TV+, which offers exclusive original content; Apple Card, a co-branded credit card; and Apple Pay, a cashless payment service, as well as licenses its intellectual property. The company serves consumers, and small and mid-sized businesses; and the education, enterprise, and government markets. It distributes third-party applications for its products through the App Store. The company also sells its products through its retail and online stores, and direct sales force; and third-party cellular network carriers, wholesalers, retailers, and resellers. Apple Inc. was incorporated in 1977 and is headquartered in Cupertino, California.', 'city': 'Cupertino', 'phone': '408 996 1010', 'state': 'CA', 'country': 'United States', 'companyOfficers': [], 'website': 'https://www.apple.com', 'maxAge': 1, 'address1': 'One Apple Park Way', 'industry': 'Consumer Electronics', 'ebitdaMargins': 0.3343, 'profitMargins': 0.25709, 'grossMargins': 0.43313998, 'operatingCashflow': 118224003072, 'revenueGrowth': 0.019, 'operatingMargins': 0.30533, 'ebitda': 129556996096, 'targetLowPrice': 136, 'recommendationKey': 'buy', 'grossProfits': 152836000000, 'freeCashflow': 83344621568, 'targetMedianPrice': 185, 'currentPrice': 171.52, 'earningsGrowth': -0.077, 'currentRatio': 0.865, 'returnOnAssets': 0.22204, 'numberOfAnalystOpinions': 44, 'targetMeanPrice': 183.76, 'debtToEquity': 205.984, 'returnOnEquity': 1.62816, 'targetHighPrice': 220, 'totalCash': 48230998016, 'totalDebt': 119691001856, 'totalRevenue': 387541991424, 'totalCashPerShare': 3.001, 'financialCurrency': 'USD', 'revenuePerShare': 23.732, 'quickRatio': 0.697, 'recommendationMean': 1.9, 'exchange': 'NMS', 'shortName': 'Apple Inc.', 'longName': 'Apple Inc.', 'exchangeTimezoneName': 'America/New_York', 'exchangeTimezoneShortName': 'EDT', 'isEsgPopulated': False, 'gmtOffSetMilliseconds': '-14400000', 'quoteType': 'EQUITY', 'symbol': 'AAPL', 'messageBoardId': 'finmb_24937', 'market': 'us_market', 'annualHoldingsTurnover': None, 'enterpriseToRevenue': 7.297, 'beta3Year': None, 'enterpriseToEbitda': 21.828, '52WeekChange': 0.14568162, 'morningStarRiskRating': None, 'forwardEps': 6.44, 'revenueQuarterlyGrowth': None, 'sharesOutstanding': 16070800384, 'fundInceptionDate': None, 'annualReportExpenseRatio': None, 'totalAssets': None, 'bookValue': 3.61, 'sharesShort': 107535584, 'sharesPercentSharesOut': 0.0067000003, 'fundFamily': None, 'lastFiscalYearEnd': 1632528000, 'heldPercentInstitutions': 0.59714, 'netIncomeToCommon': 99632996352, 'trailingEps': 6.05, 'lastDividendValue': 0.23, 'SandP52WeekChange': -0.056043804, 'priceToBook': 47.512466, 'heldPercentInsiders': 0.0007, 'nextFiscalYearEnd': 1695600000, 'yield': None, 'mostRecentQuarter': 1656115200, 'shortRatio': 1.47, 'sharesShortPreviousMonthDate': 1656547200, 'floatShares': 16053234880, 'beta': 1.230174, 'enterpriseValue': 2827915362304, 'priceHint': 2, 'threeYearAverageReturn': None, 'lastSplitDate': 1598832000, 'lastSplitFactor': '4:1', 'legalType': None, 'lastDividendDate': 1659657600, 'morningStarOverallRating': None, 'earningsQuarterlyGrowth': -0.106, 'priceToSalesTrailing12Months': 7.1126842, 'dateShortInterest': 1659052800, 'pegRatio': 3.01, 'ytdReturn': None, 'forwardPE': 26.633541, 'lastCapGain': None, 'shortPercentOfFloat': 0.0067000003, 'sharesShortPriorMonth': 112994371, 'impliedSharesOutstanding': 0, 'category': None, 'fiveYearAverageReturn': None, 'previousClose': 174.15, 'regularMarketOpen': 173.03, 'twoHundredDayAverage': 160.461, 'trailingAnnualDividendYield': 0.005110537, 'payoutRatio': 0.1471, 'volume24Hr': None, 'regularMarketDayHigh': 173.74, 'navPrice': None, 'averageDailyVolume10Day': 64119090, 'regularMarketPreviousClose': 174.15, 'fiftyDayAverage': 151.3188, 'trailingAnnualDividendRate': 0.89, 'open': 173.03, 'toCurrency': None, 'averageVolume10days': 64119090, 'expireDate': None, 'algorithm': None, 'dividendRate': 0.92, 'exDividendDate': 1659657600, 'circulatingSupply': None, 'startDate': None, 'regularMarketDayLow': 171.3101, 'currency': 'USD', 'trailingPE': 28.350412, 'regularMarketVolume': 70346295, 'lastMarket': None, 'maxSupply': None, 'openInterest': None, 'marketCap': 2756463820800, 'volumeAllCurrencies': None, 'strikePrice': None, 'averageVolume': 76763275, 'dayLow': 171.3101, 'ask': 170.75, 'askSize': 900, 'volume': 70346295, 'fiftyTwoWeekHigh': 182.94, 'fromCurrency': None, 'fiveYearAvgDividendYield': 1.05, 'fiftyTwoWeekLow': 129.04, 'bid': 170.71, 'tradeable': False, 'dividendYield': 0.0054, 'bidSize': 900, 'dayHigh': 173.74, 'coinMarketCapLink': None, 'regularMarketPrice': 171.52, 'preMarketPrice': None, 'logo_url': 'https://logo.clearbit.com/apple.com', 'trailingPegRatio': 3.1143}\n"
          ]
        },
        {
          "output_type": "execute_result",
          "data": {
            "text/plain": [
              "                 Open       High        Low      Close     Volume  Dividends  \\\n",
              "Date                                                                           \n",
              "2016-01-04  23.523348  24.156079  23.383506  24.151493  270597600        0.0   \n",
              "2016-01-05  24.243199  24.266123  23.477504  23.546278  223164000        0.0   \n",
              "2016-01-06  23.053387  23.468331  22.895205  23.085482  273829600        0.0   \n",
              "2016-01-07  22.622396  22.954808  22.106584  22.111168  324377600        0.0   \n",
              "2016-01-08  22.592595  22.720974  22.182237  22.228086  283192000        0.0   \n",
              "...               ...        ...        ...        ...        ...        ...   \n",
              "2017-12-22  41.594672  41.770882  41.551813  41.673252   65397600        0.0   \n",
              "2017-12-26  40.670779  40.830318  40.404083  40.616013  132742000        0.0   \n",
              "2017-12-27  40.504094  40.666013  40.411228  40.623154   85992800        0.0   \n",
              "2017-12-28  40.718407  40.920810  40.594584  40.737457   65920800        0.0   \n",
              "2017-12-29  40.604100  40.620767  40.294545  40.296925  103999600        0.0   \n",
              "\n",
              "            Stock Splits  \n",
              "Date                      \n",
              "2016-01-04             0  \n",
              "2016-01-05             0  \n",
              "2016-01-06             0  \n",
              "2016-01-07             0  \n",
              "2016-01-08             0  \n",
              "...                  ...  \n",
              "2017-12-22             0  \n",
              "2017-12-26             0  \n",
              "2017-12-27             0  \n",
              "2017-12-28             0  \n",
              "2017-12-29             0  \n",
              "\n",
              "[503 rows x 7 columns]"
            ],
            "text/html": [
              "\n",
              "  <div id=\"df-8fdc80d3-1926-4ffd-80d1-ca20b3a35f9d\">\n",
              "    <div class=\"colab-df-container\">\n",
              "      <div>\n",
              "<style scoped>\n",
              "    .dataframe tbody tr th:only-of-type {\n",
              "        vertical-align: middle;\n",
              "    }\n",
              "\n",
              "    .dataframe tbody tr th {\n",
              "        vertical-align: top;\n",
              "    }\n",
              "\n",
              "    .dataframe thead th {\n",
              "        text-align: right;\n",
              "    }\n",
              "</style>\n",
              "<table border=\"1\" class=\"dataframe\">\n",
              "  <thead>\n",
              "    <tr style=\"text-align: right;\">\n",
              "      <th></th>\n",
              "      <th>Open</th>\n",
              "      <th>High</th>\n",
              "      <th>Low</th>\n",
              "      <th>Close</th>\n",
              "      <th>Volume</th>\n",
              "      <th>Dividends</th>\n",
              "      <th>Stock Splits</th>\n",
              "    </tr>\n",
              "    <tr>\n",
              "      <th>Date</th>\n",
              "      <th></th>\n",
              "      <th></th>\n",
              "      <th></th>\n",
              "      <th></th>\n",
              "      <th></th>\n",
              "      <th></th>\n",
              "      <th></th>\n",
              "    </tr>\n",
              "  </thead>\n",
              "  <tbody>\n",
              "    <tr>\n",
              "      <th>2016-01-04</th>\n",
              "      <td>23.523348</td>\n",
              "      <td>24.156079</td>\n",
              "      <td>23.383506</td>\n",
              "      <td>24.151493</td>\n",
              "      <td>270597600</td>\n",
              "      <td>0.0</td>\n",
              "      <td>0</td>\n",
              "    </tr>\n",
              "    <tr>\n",
              "      <th>2016-01-05</th>\n",
              "      <td>24.243199</td>\n",
              "      <td>24.266123</td>\n",
              "      <td>23.477504</td>\n",
              "      <td>23.546278</td>\n",
              "      <td>223164000</td>\n",
              "      <td>0.0</td>\n",
              "      <td>0</td>\n",
              "    </tr>\n",
              "    <tr>\n",
              "      <th>2016-01-06</th>\n",
              "      <td>23.053387</td>\n",
              "      <td>23.468331</td>\n",
              "      <td>22.895205</td>\n",
              "      <td>23.085482</td>\n",
              "      <td>273829600</td>\n",
              "      <td>0.0</td>\n",
              "      <td>0</td>\n",
              "    </tr>\n",
              "    <tr>\n",
              "      <th>2016-01-07</th>\n",
              "      <td>22.622396</td>\n",
              "      <td>22.954808</td>\n",
              "      <td>22.106584</td>\n",
              "      <td>22.111168</td>\n",
              "      <td>324377600</td>\n",
              "      <td>0.0</td>\n",
              "      <td>0</td>\n",
              "    </tr>\n",
              "    <tr>\n",
              "      <th>2016-01-08</th>\n",
              "      <td>22.592595</td>\n",
              "      <td>22.720974</td>\n",
              "      <td>22.182237</td>\n",
              "      <td>22.228086</td>\n",
              "      <td>283192000</td>\n",
              "      <td>0.0</td>\n",
              "      <td>0</td>\n",
              "    </tr>\n",
              "    <tr>\n",
              "      <th>...</th>\n",
              "      <td>...</td>\n",
              "      <td>...</td>\n",
              "      <td>...</td>\n",
              "      <td>...</td>\n",
              "      <td>...</td>\n",
              "      <td>...</td>\n",
              "      <td>...</td>\n",
              "    </tr>\n",
              "    <tr>\n",
              "      <th>2017-12-22</th>\n",
              "      <td>41.594672</td>\n",
              "      <td>41.770882</td>\n",
              "      <td>41.551813</td>\n",
              "      <td>41.673252</td>\n",
              "      <td>65397600</td>\n",
              "      <td>0.0</td>\n",
              "      <td>0</td>\n",
              "    </tr>\n",
              "    <tr>\n",
              "      <th>2017-12-26</th>\n",
              "      <td>40.670779</td>\n",
              "      <td>40.830318</td>\n",
              "      <td>40.404083</td>\n",
              "      <td>40.616013</td>\n",
              "      <td>132742000</td>\n",
              "      <td>0.0</td>\n",
              "      <td>0</td>\n",
              "    </tr>\n",
              "    <tr>\n",
              "      <th>2017-12-27</th>\n",
              "      <td>40.504094</td>\n",
              "      <td>40.666013</td>\n",
              "      <td>40.411228</td>\n",
              "      <td>40.623154</td>\n",
              "      <td>85992800</td>\n",
              "      <td>0.0</td>\n",
              "      <td>0</td>\n",
              "    </tr>\n",
              "    <tr>\n",
              "      <th>2017-12-28</th>\n",
              "      <td>40.718407</td>\n",
              "      <td>40.920810</td>\n",
              "      <td>40.594584</td>\n",
              "      <td>40.737457</td>\n",
              "      <td>65920800</td>\n",
              "      <td>0.0</td>\n",
              "      <td>0</td>\n",
              "    </tr>\n",
              "    <tr>\n",
              "      <th>2017-12-29</th>\n",
              "      <td>40.604100</td>\n",
              "      <td>40.620767</td>\n",
              "      <td>40.294545</td>\n",
              "      <td>40.296925</td>\n",
              "      <td>103999600</td>\n",
              "      <td>0.0</td>\n",
              "      <td>0</td>\n",
              "    </tr>\n",
              "  </tbody>\n",
              "</table>\n",
              "<p>503 rows × 7 columns</p>\n",
              "</div>\n",
              "      <button class=\"colab-df-convert\" onclick=\"convertToInteractive('df-8fdc80d3-1926-4ffd-80d1-ca20b3a35f9d')\"\n",
              "              title=\"Convert this dataframe to an interactive table.\"\n",
              "              style=\"display:none;\">\n",
              "        \n",
              "  <svg xmlns=\"http://www.w3.org/2000/svg\" height=\"24px\"viewBox=\"0 0 24 24\"\n",
              "       width=\"24px\">\n",
              "    <path d=\"M0 0h24v24H0V0z\" fill=\"none\"/>\n",
              "    <path d=\"M18.56 5.44l.94 2.06.94-2.06 2.06-.94-2.06-.94-.94-2.06-.94 2.06-2.06.94zm-11 1L8.5 8.5l.94-2.06 2.06-.94-2.06-.94L8.5 2.5l-.94 2.06-2.06.94zm10 10l.94 2.06.94-2.06 2.06-.94-2.06-.94-.94-2.06-.94 2.06-2.06.94z\"/><path d=\"M17.41 7.96l-1.37-1.37c-.4-.4-.92-.59-1.43-.59-.52 0-1.04.2-1.43.59L10.3 9.45l-7.72 7.72c-.78.78-.78 2.05 0 2.83L4 21.41c.39.39.9.59 1.41.59.51 0 1.02-.2 1.41-.59l7.78-7.78 2.81-2.81c.8-.78.8-2.07 0-2.86zM5.41 20L4 18.59l7.72-7.72 1.47 1.35L5.41 20z\"/>\n",
              "  </svg>\n",
              "      </button>\n",
              "      \n",
              "  <style>\n",
              "    .colab-df-container {\n",
              "      display:flex;\n",
              "      flex-wrap:wrap;\n",
              "      gap: 12px;\n",
              "    }\n",
              "\n",
              "    .colab-df-convert {\n",
              "      background-color: #E8F0FE;\n",
              "      border: none;\n",
              "      border-radius: 50%;\n",
              "      cursor: pointer;\n",
              "      display: none;\n",
              "      fill: #1967D2;\n",
              "      height: 32px;\n",
              "      padding: 0 0 0 0;\n",
              "      width: 32px;\n",
              "    }\n",
              "\n",
              "    .colab-df-convert:hover {\n",
              "      background-color: #E2EBFA;\n",
              "      box-shadow: 0px 1px 2px rgba(60, 64, 67, 0.3), 0px 1px 3px 1px rgba(60, 64, 67, 0.15);\n",
              "      fill: #174EA6;\n",
              "    }\n",
              "\n",
              "    [theme=dark] .colab-df-convert {\n",
              "      background-color: #3B4455;\n",
              "      fill: #D2E3FC;\n",
              "    }\n",
              "\n",
              "    [theme=dark] .colab-df-convert:hover {\n",
              "      background-color: #434B5C;\n",
              "      box-shadow: 0px 1px 3px 1px rgba(0, 0, 0, 0.15);\n",
              "      filter: drop-shadow(0px 1px 2px rgba(0, 0, 0, 0.3));\n",
              "      fill: #FFFFFF;\n",
              "    }\n",
              "  </style>\n",
              "\n",
              "      <script>\n",
              "        const buttonEl =\n",
              "          document.querySelector('#df-8fdc80d3-1926-4ffd-80d1-ca20b3a35f9d button.colab-df-convert');\n",
              "        buttonEl.style.display =\n",
              "          google.colab.kernel.accessAllowed ? 'block' : 'none';\n",
              "\n",
              "        async function convertToInteractive(key) {\n",
              "          const element = document.querySelector('#df-8fdc80d3-1926-4ffd-80d1-ca20b3a35f9d');\n",
              "          const dataTable =\n",
              "            await google.colab.kernel.invokeFunction('convertToInteractive',\n",
              "                                                     [key], {});\n",
              "          if (!dataTable) return;\n",
              "\n",
              "          const docLinkHtml = 'Like what you see? Visit the ' +\n",
              "            '<a target=\"_blank\" href=https://colab.research.google.com/notebooks/data_table.ipynb>data table notebook</a>'\n",
              "            + ' to learn more about interactive tables.';\n",
              "          element.innerHTML = '';\n",
              "          dataTable['output_type'] = 'display_data';\n",
              "          await google.colab.output.renderOutput(dataTable, element);\n",
              "          const docLink = document.createElement('div');\n",
              "          docLink.innerHTML = docLinkHtml;\n",
              "          element.appendChild(docLink);\n",
              "        }\n",
              "      </script>\n",
              "    </div>\n",
              "  </div>\n",
              "  "
            ]
          },
          "metadata": {},
          "execution_count": 3
        }
      ]
    },
    {
      "cell_type": "markdown",
      "metadata": {
        "id": "NkFztSYhJyVA"
      },
      "source": [
        "We will create a Series named \"aapl\" whose values are Apple's daily closing prices, which are of course indexed by dates:"
      ]
    },
    {
      "cell_type": "code",
      "metadata": {
        "id": "QDJbOpCeHW91"
      },
      "source": [
        "aapl = aapl_table['Close']['2017'] #Se crea una tabla con los precios de cierre diarios en 2017"
      ],
      "execution_count": 6,
      "outputs": []
    },
    {
      "cell_type": "code",
      "metadata": {
        "colab": {
          "base_uri": "https://localhost:8080/"
        },
        "id": "SXfgCQJOHW91",
        "outputId": "9e8b9d7f-fa1d-4702-dbb5-a680a7fafd68"
      },
      "source": [
        "print(aapl)"
      ],
      "execution_count": 7,
      "outputs": [
        {
          "output_type": "stream",
          "name": "stdout",
          "text": [
            "Date\n",
            "2017-01-03    27.219835\n",
            "2017-01-04    27.189367\n",
            "2017-01-05    27.327633\n",
            "2017-01-06    27.632296\n",
            "2017-01-09    27.885389\n",
            "                ...    \n",
            "2017-12-22    41.673252\n",
            "2017-12-26    40.616013\n",
            "2017-12-27    40.623154\n",
            "2017-12-28    40.737457\n",
            "2017-12-29    40.296925\n",
            "Name: Close, Length: 251, dtype: float64\n"
          ]
        }
      ]
    },
    {
      "cell_type": "markdown",
      "metadata": {
        "id": "waUEgBhzKEcA"
      },
      "source": [
        "Recall that we can fetch a specific data point using series['yyyy-mm-dd']. We can also fetch the data in a specific month using series['yyyy-mm']."
      ]
    },
    {
      "cell_type": "code",
      "metadata": {
        "colab": {
          "base_uri": "https://localhost:8080/"
        },
        "id": "2gS50G0zHW92",
        "outputId": "ad45717e-f46a-48b1-896c-64208fb477e1"
      },
      "source": [
        "print(aapl['2017-3']) #Obtenemos los datos de marzo de 2017"
      ],
      "execution_count": 9,
      "outputs": [
        {
          "output_type": "stream",
          "name": "stdout",
          "text": [
            "Date\n",
            "2017-03-01    32.901909\n",
            "2017-03-02    32.706562\n",
            "2017-03-03    32.899567\n",
            "2017-03-06    32.796013\n",
            "2017-03-07    32.838367\n",
            "2017-03-08    32.715984\n",
            "2017-03-09    32.640656\n",
            "2017-03-10    32.748932\n",
            "2017-03-13    32.763039\n",
            "2017-03-14    32.713623\n",
            "2017-03-15    33.059616\n",
            "2017-03-16    33.113743\n",
            "2017-03-17    32.948990\n",
            "2017-03-20    33.294979\n",
            "2017-03-21    32.913689\n",
            "2017-03-22    33.285564\n",
            "2017-03-23    33.167885\n",
            "2017-03-24    33.101974\n",
            "2017-03-27    33.158466\n",
            "2017-03-28    33.845726\n",
            "2017-03-29    33.921051\n",
            "2017-03-30    33.876343\n",
            "2017-03-31    33.812794\n",
            "Name: Close, dtype: float64\n"
          ]
        }
      ]
    },
    {
      "cell_type": "code",
      "metadata": {
        "colab": {
          "base_uri": "https://localhost:8080/"
        },
        "id": "vpvxGwXtHW92",
        "outputId": "9224876e-deda-4b79-8b8d-d7b0c484ae8e"
      },
      "source": [
        "aapl['2017-2':'2017-4'] #Obtenemos los datos desde febrero hasta abril de 2017"
      ],
      "execution_count": 10,
      "outputs": [
        {
          "output_type": "execute_result",
          "data": {
            "text/plain": [
              "Date\n",
              "2017-02-01    30.172651\n",
              "2017-02-02    30.121098\n",
              "2017-02-03    30.249989\n",
              "2017-02-06    30.533546\n",
              "2017-02-07    30.824150\n",
              "                ...    \n",
              "2017-04-24    33.808075\n",
              "2017-04-25    34.017555\n",
              "2017-04-26    33.817493\n",
              "2017-04-27    33.843376\n",
              "2017-04-28    33.810432\n",
              "Name: Close, Length: 61, dtype: float64"
            ]
          },
          "metadata": {},
          "execution_count": 10
        }
      ]
    },
    {
      "cell_type": "markdown",
      "metadata": {
        "id": "lWwoD39pKNKb"
      },
      "source": [
        ".head(N) and .tail(N) are methods for quickly accessing the first or last N elements."
      ]
    },
    {
      "cell_type": "code",
      "metadata": {
        "colab": {
          "base_uri": "https://localhost:8080/"
        },
        "id": "1eU218ALHW93",
        "outputId": "ae40366f-f853-46bc-ed4d-c06d967e4077"
      },
      "source": [
        "print(aapl.head(5)) #Accedemos a los 5 primeros datos\n",
        "print(aapl.tail(10)) #Accedmos a los 10 últimos datos"
      ],
      "execution_count": 11,
      "outputs": [
        {
          "output_type": "stream",
          "name": "stdout",
          "text": [
            "Date\n",
            "2017-01-03    27.219835\n",
            "2017-01-04    27.189367\n",
            "2017-01-05    27.327633\n",
            "2017-01-06    27.632296\n",
            "2017-01-09    27.885389\n",
            "Name: Close, dtype: float64\n",
            "Date\n",
            "2017-12-15    41.425613\n",
            "2017-12-18    42.008999\n",
            "2017-12-19    41.561333\n",
            "2017-12-20    41.516094\n",
            "2017-12-21    41.673252\n",
            "2017-12-22    41.673252\n",
            "2017-12-26    40.616013\n",
            "2017-12-27    40.623154\n",
            "2017-12-28    40.737457\n",
            "2017-12-29    40.296925\n",
            "Name: Close, dtype: float64\n"
          ]
        }
      ]
    },
    {
      "cell_type": "markdown",
      "metadata": {
        "id": "IxhKxtj-KQ66"
      },
      "source": [
        "# Resampling\n",
        "**_series.resample(freq)_** is a class called \"DatetimeIndexResampler\" which groups data in a Series object into regular time intervals. The argument \"freq\" determines the length of each interval.\n",
        "\n",
        "**_series.resample.mean()_** is a complete statement that groups data into intervals, and then compute the mean of each interval. For example, if we want to aggregate the daily data into monthly data by mean:"
      ]
    },
    {
      "cell_type": "code",
      "metadata": {
        "colab": {
          "base_uri": "https://localhost:8080/"
        },
        "id": "rAV8NkHkHW93",
        "outputId": "c1c24edc-f39b-4eba-ebc6-247d6419adfd"
      },
      "source": [
        "by_month = aapl.resample('M').mean() #Hallamos el promedio de los datos mensualmente\n",
        "print(by_month)"
      ],
      "execution_count": 12,
      "outputs": [
        {
          "output_type": "stream",
          "name": "stdout",
          "text": [
            "Date\n",
            "2017-01-31    28.021312\n",
            "2017-02-28    31.430156\n",
            "2017-03-31    33.096760\n",
            "2017-04-30    33.630811\n",
            "2017-05-31    35.924380\n",
            "2017-06-30    34.938205\n",
            "2017-07-31    35.048843\n",
            "2017-08-31    37.686053\n",
            "2017-09-30    37.395191\n",
            "2017-10-31    37.444725\n",
            "2017-11-30    41.004148\n",
            "2017-12-31    40.930681\n",
            "Freq: M, Name: Close, dtype: float64\n"
          ]
        }
      ]
    },
    {
      "cell_type": "markdown",
      "metadata": {
        "id": "QDPfVzBEKV6Q"
      },
      "source": [
        "We can also aggregate the data by week:"
      ]
    },
    {
      "cell_type": "code",
      "metadata": {
        "colab": {
          "base_uri": "https://localhost:8080/"
        },
        "id": "aAP3tKkBHW94",
        "outputId": "d55858f8-5e25-4dcd-91bb-783d20148566"
      },
      "source": [
        "by_week = aapl.resample('W').mean() #Realiza el promedio de los datos semanalmente\n",
        "print(by_week.head(10)) #Muestra los 10 primeros valores"
      ],
      "execution_count": 14,
      "outputs": [
        {
          "output_type": "stream",
          "name": "stdout",
          "text": [
            "Date\n",
            "2017-01-08    27.342283\n",
            "2017-01-15    27.941164\n",
            "2017-01-22    28.108606\n",
            "2017-01-29    28.394866\n",
            "2017-02-05    29.497253\n",
            "2017-02-12    30.913056\n",
            "2017-02-19    31.769335\n",
            "2017-02-26    32.186402\n",
            "2017-03-05    32.595939\n",
            "2017-03-12    32.747990\n",
            "Freq: W-SUN, Name: Close, dtype: float64\n"
          ]
        }
      ]
    },
    {
      "cell_type": "markdown",
      "metadata": {
        "id": "o_MXSVsILoBS"
      },
      "source": [
        "We can also aggregate the data by month with max:"
      ]
    },
    {
      "cell_type": "code",
      "metadata": {
        "colab": {
          "base_uri": "https://localhost:8080/"
        },
        "id": "gn0wqXBTHW95",
        "outputId": "e8c99d63-f848-4190-ed92-bd3e0becc954"
      },
      "source": [
        "aapl.resample('M').max() #Muestra el máximo valor de cada mes"
      ],
      "execution_count": 16,
      "outputs": [
        {
          "output_type": "execute_result",
          "data": {
            "text/plain": [
              "Date\n",
              "2017-01-31    28.579063\n",
              "2017-02-28    32.271126\n",
              "2017-03-31    33.921051\n",
              "2017-04-30    34.074043\n",
              "2017-05-31    36.892399\n",
              "2017-06-30    36.738781\n",
              "2017-07-31    36.268471\n",
              "2017-08-31    38.911674\n",
              "2017-09-30    38.923538\n",
              "2017-10-31    40.107498\n",
              "2017-11-30    41.815819\n",
              "2017-12-31    42.008999\n",
              "Freq: M, Name: Close, dtype: float64"
            ]
          },
          "metadata": {},
          "execution_count": 16
        }
      ]
    },
    {
      "cell_type": "markdown",
      "metadata": {
        "id": "Z8r46UFlLdAh"
      },
      "source": [
        "We can choose almost any frequency by using the format 'nf', where 'n' is an integer and 'f' is M for month, W for week and D for day."
      ]
    },
    {
      "cell_type": "code",
      "metadata": {
        "colab": {
          "base_uri": "https://localhost:8080/"
        },
        "id": "kdVB_-JFHW96",
        "outputId": "2c00ea21-d2f5-4c14-af56-361358a5990a"
      },
      "source": [
        "#Usamos la frecuencia que queramos según un número y si será mensual, semanal o diario\n",
        "three_day = aapl.resample('3D').mean() #Realiza el promedio de los valores cada 3 días\n",
        "two_week = aapl.resample('2W').mean() #Realiza el promedio de los valores cada 2 semanas\n",
        "two_month = aapl.resample('2M').mean() #Realiza el promedio de los valores cada 2 meses\n",
        "\n",
        "\n",
        "print(three_day)\n",
        "print(two_week)\n",
        "print(two_month )"
      ],
      "execution_count": 18,
      "outputs": [
        {
          "output_type": "stream",
          "name": "stdout",
          "text": [
            "Date\n",
            "2017-01-03    27.245612\n",
            "2017-01-06    27.632296\n",
            "2017-01-09    27.954131\n",
            "2017-01-12    27.921715\n",
            "2017-01-15    28.122080\n",
            "                ...    \n",
            "2017-12-17    41.785166\n",
            "2017-12-20    41.620866\n",
            "2017-12-23          NaN\n",
            "2017-12-26    40.658875\n",
            "2017-12-29    40.296925\n",
            "Freq: 3D, Name: Close, Length: 121, dtype: float64\n",
            "Date\n",
            "2017-01-08    27.342283\n",
            "2017-01-22    28.015583\n",
            "2017-02-05    28.946060\n",
            "2017-02-19    31.341195\n",
            "2017-03-05    32.413923\n",
            "2017-03-19    32.833896\n",
            "2017-04-02    33.437847\n",
            "2017-04-16    33.661107\n",
            "2017-04-30    33.603545\n",
            "2017-05-14    35.498713\n",
            "2017-05-28    36.292809\n",
            "2017-06-11    36.311534\n",
            "2017-06-25    34.336637\n",
            "2017-07-09    34.074196\n",
            "2017-07-23    35.082286\n",
            "2017-08-06    36.070652\n",
            "2017-08-20    37.692905\n",
            "2017-09-03    38.244487\n",
            "2017-09-17    38.069384\n",
            "2017-10-01    36.635583\n",
            "2017-10-15    36.865020\n",
            "2017-10-29    37.546922\n",
            "2017-11-12    40.803593\n",
            "2017-11-26    40.974773\n",
            "2017-12-10    40.639342\n",
            "2017-12-24    41.388940\n",
            "2018-01-07    40.568387\n",
            "Freq: 2W-SUN, Name: Close, dtype: float64\n",
            "Date\n",
            "2017-01-31    28.021312\n",
            "2017-03-31    32.342820\n",
            "2017-05-31    34.861506\n",
            "2017-07-31    34.990890\n",
            "2017-09-30    37.550768\n",
            "2017-11-30    39.183048\n",
            "2018-01-31    40.930681\n",
            "Freq: 2M, Name: Close, dtype: float64\n"
          ]
        }
      ]
    },
    {
      "cell_type": "markdown",
      "metadata": {
        "id": "iy4RqsnwL-Bw"
      },
      "source": [
        "Besides the mean() method, other methods can also be used with the resampler:\n",
        "\n"
      ]
    },
    {
      "cell_type": "code",
      "metadata": {
        "colab": {
          "base_uri": "https://localhost:8080/"
        },
        "id": "DNT8Fx9dHW96",
        "outputId": "372a3040-b8ec-4792-f2dd-a6d38c076c20"
      },
      "source": [
        "std = aapl.resample('W').std() #Halla la desviación estándar semanalmente\n",
        "max = aapl.resample('W').max() #Halla el valor máximo semanalmente\n",
        "min = aapl.resample('W').min() #Halla el valor mínimo semanalmente\n",
        "\n",
        "\n",
        "print(std)\n",
        "print(max)\n",
        "print(min)"
      ],
      "execution_count": 19,
      "outputs": [
        {
          "output_type": "stream",
          "name": "stdout",
          "text": [
            "Date\n",
            "2017-01-08    0.202236\n",
            "2017-01-15    0.072124\n",
            "2017-01-22    0.025410\n",
            "2017-01-29    0.243919\n",
            "2017-02-05    0.938005\n",
            "2017-02-12    0.250598\n",
            "2017-02-19    0.230107\n",
            "2017-02-26    0.059008\n",
            "2017-03-05    0.338195\n",
            "2017-03-12    0.075862\n",
            "2017-03-19    0.176846\n",
            "2017-03-26    0.156386\n",
            "2017-04-02    0.318026\n",
            "2017-04-09    0.127969\n",
            "2017-04-16    0.211290\n",
            "2017-04-23    0.173695\n",
            "2017-04-30    0.089524\n",
            "2017-05-07    0.234323\n",
            "2017-05-14    0.351010\n",
            "2017-05-21    0.533106\n",
            "2017-05-28    0.060056\n",
            "2017-06-04    0.279657\n",
            "2017-06-11    0.616578\n",
            "2017-06-18    0.380434\n",
            "2017-06-25    0.128175\n",
            "2017-07-02    0.262641\n",
            "2017-07-09    0.158006\n",
            "2017-07-16    0.402024\n",
            "2017-07-23    0.124293\n",
            "2017-07-30    0.382298\n",
            "2017-08-06    0.919240\n",
            "2017-08-13    0.464860\n",
            "2017-08-20    0.432829\n",
            "2017-08-27    0.274231\n",
            "2017-09-03    0.250321\n",
            "2017-09-10    0.379514\n",
            "2017-09-17    0.292504\n",
            "2017-09-24    0.731099\n",
            "2017-10-01    0.352866\n",
            "2017-10-08    0.203714\n",
            "2017-10-15    0.118072\n",
            "2017-10-22    0.514120\n",
            "2017-10-29    0.676665\n",
            "2017-11-05    0.557565\n",
            "2017-11-12    0.189908\n",
            "2017-11-19    0.433765\n",
            "2017-11-26    0.559907\n",
            "2017-12-03    0.425065\n",
            "2017-12-10    0.072721\n",
            "2017-12-17    0.204122\n",
            "2017-12-24    0.193042\n",
            "2017-12-31    0.189336\n",
            "Freq: W-SUN, Name: Close, dtype: float64\n",
            "Date\n",
            "2017-01-08    27.632296\n",
            "2017-01-15    28.063494\n",
            "2017-01-22    28.122080\n",
            "2017-01-29    28.579063\n",
            "2017-02-05    30.249989\n",
            "2017-02-12    31.167263\n",
            "2017-02-19    31.943977\n",
            "2017-02-26    32.271126\n",
            "2017-03-05    32.901909\n",
            "2017-03-12    32.838367\n",
            "2017-03-19    33.113743\n",
            "2017-03-26    33.294979\n",
            "2017-04-02    33.921051\n",
            "2017-04-09    34.074043\n",
            "2017-04-16    33.697456\n",
            "2017-04-23    33.525642\n",
            "2017-04-30    34.017555\n",
            "2017-05-07    35.060230\n",
            "2017-05-14    36.892399\n",
            "2017-05-21    36.797859\n",
            "2017-05-28    36.393726\n",
            "2017-06-04    36.738781\n",
            "2017-06-11    36.719875\n",
            "2017-06-18    34.644817\n",
            "2017-06-25    34.585735\n",
            "2017-07-02    34.465210\n",
            "2017-07-09    34.075245\n",
            "2017-07-16    35.223843\n",
            "2017-07-23    35.691803\n",
            "2017-07-30    36.268471\n",
            "2017-08-06    37.138195\n",
            "2017-08-13    38.064629\n",
            "2017-08-20    38.342251\n",
            "2017-08-27    37.957870\n",
            "2017-09-03    38.923538\n",
            "2017-09-10    38.456131\n",
            "2017-09-17    38.318523\n",
            "2017-09-24    37.661278\n",
            "2017-10-01    36.593586\n",
            "2017-10-08    36.868816\n",
            "2017-10-15    37.248444\n",
            "2017-10-22    38.074131\n",
            "2017-10-29    38.686279\n",
            "2017-11-05    40.928455\n",
            "2017-11-12    41.815819\n",
            "2017-11-19    41.425613\n",
            "2017-11-26    41.663727\n",
            "2017-12-03    41.454189\n",
            "2017-12-10    40.432652\n",
            "2017-12-17    41.425613\n",
            "2017-12-24    42.008999\n",
            "2017-12-31    40.737457\n",
            "Freq: W-SUN, Name: Close, dtype: float64\n",
            "Date\n",
            "2017-01-08    27.189367\n",
            "2017-01-15    27.885389\n",
            "2017-01-22    28.070528\n",
            "2017-01-29    28.115049\n",
            "2017-02-05    28.438456\n",
            "2017-02-12    30.533546\n",
            "2017-02-19    31.372028\n",
            "2017-02-26    32.134628\n",
            "2017-03-05    32.228764\n",
            "2017-03-12    32.640656\n",
            "2017-03-19    32.713623\n",
            "2017-03-26    32.913689\n",
            "2017-04-02    33.158466\n",
            "2017-04-09    33.737473\n",
            "2017-04-16    33.198486\n",
            "2017-04-23    33.111404\n",
            "2017-04-30    33.808075\n",
            "2017-05-07    34.488293\n",
            "2017-05-14    36.013466\n",
            "2017-05-21    35.509819\n",
            "2017-05-28    36.240101\n",
            "2017-06-04    36.103024\n",
            "2017-06-11    35.209675\n",
            "2017-06-18    33.623837\n",
            "2017-06-25    34.271408\n",
            "2017-07-02    33.957077\n",
            "2017-07-09    33.732555\n",
            "2017-07-16    34.283234\n",
            "2017-07-23    35.346748\n",
            "2017-07-30    35.332565\n",
            "2017-08-06    35.150589\n",
            "2017-08-13    36.852211\n",
            "2017-08-20    37.369442\n",
            "2017-08-27    37.300640\n",
            "2017-09-03    38.311394\n",
            "2017-09-10    37.637558\n",
            "2017-09-17    37.554512\n",
            "2017-09-24    36.038380\n",
            "2017-10-01    35.720451\n",
            "2017-10-08    36.415638\n",
            "2017-10-15    36.975586\n",
            "2017-10-22    37.008797\n",
            "2017-10-29    37.053890\n",
            "2017-11-05    39.557037\n",
            "2017-11-12    41.343658\n",
            "2017-11-19    40.261219\n",
            "2017-11-26    40.475513\n",
            "2017-12-03    40.356453\n",
            "2017-12-10    40.244541\n",
            "2017-12-17    40.885078\n",
            "2017-12-24    41.516094\n",
            "2017-12-31    40.296925\n",
            "Freq: W-SUN, Name: Close, dtype: float64\n"
          ]
        }
      ]
    },
    {
      "cell_type": "markdown",
      "metadata": {
        "id": "uqln0s5DMI3I"
      },
      "source": [
        "Often we want to calculate monthly returns of a stock, based on prices on the last day of each month. To fetch those prices, we use the series.resample.agg() method:"
      ]
    },
    {
      "cell_type": "code",
      "metadata": {
        "colab": {
          "base_uri": "https://localhost:8080/"
        },
        "id": "A6FSYvqbHW97",
        "outputId": "d8f85516-89fe-4d2f-cd09-7929a6218e6e"
      },
      "source": [
        "last_day = aapl.resample('M').agg(lambda x: x[-1])\n",
        "print(last_day) #Imprime el último valor de cada mes"
      ],
      "execution_count": 20,
      "outputs": [
        {
          "output_type": "stream",
          "name": "stdout",
          "text": [
            "Date\n",
            "2017-01-31    28.438456\n",
            "2017-02-28    32.242893\n",
            "2017-03-31    33.812794\n",
            "2017-04-30    33.810432\n",
            "2017-05-31    36.103024\n",
            "2017-06-30    34.037430\n",
            "2017-07-31    35.150589\n",
            "2017-08-31    38.911674\n",
            "2017-09-30    36.567490\n",
            "2017-10-31    40.107498\n",
            "2017-11-30    40.920803\n",
            "2017-12-31    40.296925\n",
            "Freq: M, Name: Close, dtype: float64\n"
          ]
        }
      ]
    },
    {
      "cell_type": "markdown",
      "metadata": {
        "id": "uwomY3aXMR46"
      },
      "source": [
        "Or directly calculate the monthly rates of return using the data for the first day and the last day:"
      ]
    },
    {
      "cell_type": "code",
      "metadata": {
        "colab": {
          "base_uri": "https://localhost:8080/"
        },
        "id": "qK2NMJrNHW96",
        "outputId": "1b4206e4-490c-4690-cd09-fab539dbbe55"
      },
      "source": [
        "monthly_return = aapl.resample('M').agg(lambda x: x[-1]/x[0] - 1)\n",
        "print(monthly_return) #Imprime la tasa de rendimiento de cada mes"
      ],
      "execution_count": 23,
      "outputs": [
        {
          "output_type": "stream",
          "name": "stdout",
          "text": [
            "Date\n",
            "2017-01-31    0.044770\n",
            "2017-02-28    0.068613\n",
            "2017-03-31    0.027685\n",
            "2017-04-30   -0.000348\n",
            "2017-05-31    0.046462\n",
            "2017-06-30   -0.059799\n",
            "2017-07-31    0.036446\n",
            "2017-08-31    0.097261\n",
            "2017-09-30   -0.060530\n",
            "2017-10-31    0.099018\n",
            "2017-11-30    0.033422\n",
            "2017-12-31   -0.010640\n",
            "Freq: M, Name: Close, dtype: float64\n"
          ]
        }
      ]
    },
    {
      "cell_type": "markdown",
      "metadata": {
        "id": "_DYbMTFWMj8J"
      },
      "source": [
        "Series object also provides us some convenient methods to do some quick calculation."
      ]
    },
    {
      "cell_type": "code",
      "metadata": {
        "colab": {
          "base_uri": "https://localhost:8080/"
        },
        "id": "1Mxc0HwvHW98",
        "outputId": "e8f2a1f6-e141-4d86-89da-d695fab00253"
      },
      "source": [
        "#Se realiza el cálculo del promedio, desviación estándar y máximo valor de la serie anterior\n",
        "print(monthly_return.mean())\n",
        "print(monthly_return.std())\n",
        "print(monthly_return.max())"
      ],
      "execution_count": 24,
      "outputs": [
        {
          "output_type": "stream",
          "name": "stdout",
          "text": [
            "0.02686329517304976\n",
            "0.05225851760305724\n",
            "0.09901808017358604\n"
          ]
        }
      ]
    },
    {
      "cell_type": "markdown",
      "metadata": {
        "id": "mn59J5dqMpqX"
      },
      "source": [
        "Another two methods frequently used on Series are .diff() and .pct_change(). The former calculates the difference between consecutive elements, and the latter calculates the percentage change."
      ]
    },
    {
      "cell_type": "code",
      "metadata": {
        "colab": {
          "base_uri": "https://localhost:8080/"
        },
        "id": "DupZTSqqHW99",
        "outputId": "3e5482e5-11e1-4855-834e-eb55159952c0"
      },
      "source": [
        "print(last_day.diff()) #Imprime la diferencia entre un mes y el anterior\n",
        "print(last_day.pct_change()) #Imprime el porcentaje de esa diferencia"
      ],
      "execution_count": 26,
      "outputs": [
        {
          "output_type": "stream",
          "name": "stdout",
          "text": [
            "Date\n",
            "2017-01-31         NaN\n",
            "2017-02-28    3.804438\n",
            "2017-03-31    1.569901\n",
            "2017-04-30   -0.002361\n",
            "2017-05-31    2.292591\n",
            "2017-06-30   -2.065594\n",
            "2017-07-31    1.113159\n",
            "2017-08-31    3.761086\n",
            "2017-09-30   -2.344185\n",
            "2017-10-31    3.540009\n",
            "2017-11-30    0.813305\n",
            "2017-12-31   -0.623878\n",
            "Freq: M, Name: Close, dtype: float64\n",
            "Date\n",
            "2017-01-31         NaN\n",
            "2017-02-28    0.133778\n",
            "2017-03-31    0.048690\n",
            "2017-04-30   -0.000070\n",
            "2017-05-31    0.067807\n",
            "2017-06-30   -0.057214\n",
            "2017-07-31    0.032704\n",
            "2017-08-31    0.106999\n",
            "2017-09-30   -0.060244\n",
            "2017-10-31    0.096808\n",
            "2017-11-30    0.020278\n",
            "2017-12-31   -0.015246\n",
            "Freq: M, Name: Close, dtype: float64\n"
          ]
        }
      ]
    },
    {
      "cell_type": "markdown",
      "metadata": {
        "id": "RaMAOFepM6Io"
      },
      "source": [
        "Notice that we induced a NaN value while calculating percentage changes i.e. returns.\n",
        "\n",
        "When dealing with NaN values, we usually either removing the data point or fill it with a specific value. Here we fill it with 0:"
      ]
    },
    {
      "cell_type": "code",
      "metadata": {
        "colab": {
          "base_uri": "https://localhost:8080/"
        },
        "id": "-xyLb3A3HW99",
        "outputId": "4803d2eb-6021-408b-aeeb-b2630f2c2e5e"
      },
      "source": [
        "daily_return = last_day.pct_change()\n",
        "print(daily_return.fillna(0)) #Cambiamos el valor NaN por un 0"
      ],
      "execution_count": 27,
      "outputs": [
        {
          "output_type": "stream",
          "name": "stdout",
          "text": [
            "Date\n",
            "2017-01-31    0.000000\n",
            "2017-02-28    0.133778\n",
            "2017-03-31    0.048690\n",
            "2017-04-30   -0.000070\n",
            "2017-05-31    0.067807\n",
            "2017-06-30   -0.057214\n",
            "2017-07-31    0.032704\n",
            "2017-08-31    0.106999\n",
            "2017-09-30   -0.060244\n",
            "2017-10-31    0.096808\n",
            "2017-11-30    0.020278\n",
            "2017-12-31   -0.015246\n",
            "Freq: M, Name: Close, dtype: float64\n"
          ]
        }
      ]
    },
    {
      "cell_type": "markdown",
      "metadata": {
        "id": "BYS10Om1NQVC"
      },
      "source": [
        "Alternatively, we can fill a NaN with the next fitted value. This is called 'backward fill', or 'bfill' in short:"
      ]
    },
    {
      "cell_type": "code",
      "metadata": {
        "colab": {
          "base_uri": "https://localhost:8080/"
        },
        "id": "J513kHeKHW9-",
        "outputId": "d2fc7733-db46-4f3f-e191-606b3cd7cfbf"
      },
      "source": [
        "daily_return = last_day.pct_change()\n",
        "print(daily_return.fillna(method = 'bfill')) #Cambiamos el NaN por el siguiente valor que aparece"
      ],
      "execution_count": 29,
      "outputs": [
        {
          "output_type": "stream",
          "name": "stdout",
          "text": [
            "Date\n",
            "2017-01-31    0.133778\n",
            "2017-02-28    0.133778\n",
            "2017-03-31    0.048690\n",
            "2017-04-30   -0.000070\n",
            "2017-05-31    0.067807\n",
            "2017-06-30   -0.057214\n",
            "2017-07-31    0.032704\n",
            "2017-08-31    0.106999\n",
            "2017-09-30   -0.060244\n",
            "2017-10-31    0.096808\n",
            "2017-11-30    0.020278\n",
            "2017-12-31   -0.015246\n",
            "Freq: M, Name: Close, dtype: float64\n"
          ]
        }
      ]
    },
    {
      "cell_type": "markdown",
      "metadata": {
        "id": "bj8QUSgdNepf"
      },
      "source": [
        "As expected, since there is a 'backward fill' method, there must be a 'forward fill' method, or 'ffill' in short. However we can't use it here because the NaN is the first value.\n",
        "\n",
        "We can also simply remove NaN values by **_.dropna()_**"
      ]
    },
    {
      "cell_type": "code",
      "metadata": {
        "colab": {
          "base_uri": "https://localhost:8080/"
        },
        "id": "WG5ux1lqHW9-",
        "outputId": "cb620897-1856-4892-fe66-b123acc439af"
      },
      "source": [
        "daily_return = last_day.pct_change()\n",
        "daily_return.dropna() #Eliminamos el valor NaN"
      ],
      "execution_count": 30,
      "outputs": [
        {
          "output_type": "execute_result",
          "data": {
            "text/plain": [
              "Date\n",
              "2017-02-28    0.133778\n",
              "2017-03-31    0.048690\n",
              "2017-04-30   -0.000070\n",
              "2017-05-31    0.067807\n",
              "2017-06-30   -0.057214\n",
              "2017-07-31    0.032704\n",
              "2017-08-31    0.106999\n",
              "2017-09-30   -0.060244\n",
              "2017-10-31    0.096808\n",
              "2017-11-30    0.020278\n",
              "2017-12-31   -0.015246\n",
              "Freq: M, Name: Close, dtype: float64"
            ]
          },
          "metadata": {},
          "execution_count": 30
        }
      ]
    },
    {
      "cell_type": "markdown",
      "metadata": {
        "id": "nQH2eBWkNjdC"
      },
      "source": [
        "# DataFrame\n",
        "The **DataFrame** is the most commonly used data structure in Pandas. It is essentially a table, just like an Excel spreadsheet.\n",
        "\n",
        "More precisely, a DataFrame is a collection of Series objects, each of which may contain different data types. A DataFrame can be created from various data types: dictionary, 2-D numpy.ndarray, a Series or another DataFrame.\n",
        "\n",
        "## Create DataFrames\n",
        "The most common method of creating a DataFrame is passing a dictionary:"
      ]
    },
    {
      "cell_type": "code",
      "metadata": {
        "colab": {
          "base_uri": "https://localhost:8080/"
        },
        "id": "vd5Wf1ohHW9-",
        "outputId": "d03c8c4e-fe26-4f99-fe54-5946bf5ecada"
      },
      "source": [
        "import pandas as pd\n",
        "\n",
        "dict = {'AAPL': [143.5, 144.09, 142.73, 144.18, 143.77],'GOOG':[898.7, 911.71, 906.69, 918.59, 926.99],\n",
        "        'IBM':[155.58, 153.67, 152.36, 152.94, 153.49]} #Se crea un diccionario con los valores necesarios\n",
        "data_index = pd.date_range('2017-07-03',periods = 5, freq = 'D') #Se crean índices por fechas\n",
        "df = pd.DataFrame(dict, index = data_index) #Se crea un dataframe del diccionario con tus correspondientes índices\n",
        "print(df)"
      ],
      "execution_count": 31,
      "outputs": [
        {
          "output_type": "stream",
          "name": "stdout",
          "text": [
            "              AAPL    GOOG     IBM\n",
            "2017-07-03  143.50  898.70  155.58\n",
            "2017-07-04  144.09  911.71  153.67\n",
            "2017-07-05  142.73  906.69  152.36\n",
            "2017-07-06  144.18  918.59  152.94\n",
            "2017-07-07  143.77  926.99  153.49\n"
          ]
        }
      ]
    },
    {
      "cell_type": "markdown",
      "metadata": {
        "id": "0uYmLQTgOPnX"
      },
      "source": [
        "## Manipulating DataFrames\n",
        "We can fetch values in a DataFrame by columns and index. Each column in a DataFrame is essentially a Pandas Series. We can fetch a column by square brackets: **df['column_name']**\n",
        "\n",
        "If a column name contains no spaces, then we can also use df.column_name to fetch a column:"
      ]
    },
    {
      "cell_type": "code",
      "metadata": {
        "colab": {
          "base_uri": "https://localhost:8080/"
        },
        "id": "2pB2f7lBHW9_",
        "outputId": "f50b45a6-aee4-4360-e3b4-116cc3c229c7"
      },
      "source": [
        "df = aapl_table\n",
        "#Imprime los 5 últimos valores de las columnas mencionadas\n",
        "print(df.Close.tail(5))\n",
        "print(df['Volume'].tail(5))"
      ],
      "execution_count": 37,
      "outputs": [
        {
          "output_type": "stream",
          "name": "stdout",
          "text": [
            "Date\n",
            "2017-12-22    41.673252\n",
            "2017-12-26    40.616013\n",
            "2017-12-27    40.623154\n",
            "2017-12-28    40.737457\n",
            "2017-12-29    40.296925\n",
            "Name: Close, dtype: float64\n",
            "Date\n",
            "2017-12-22     65397600\n",
            "2017-12-26    132742000\n",
            "2017-12-27     85992800\n",
            "2017-12-28     65920800\n",
            "2017-12-29    103999600\n",
            "Name: Volume, dtype: int64\n"
          ]
        }
      ]
    },
    {
      "cell_type": "markdown",
      "metadata": {
        "id": "z0ugOel9O4-P"
      },
      "source": [
        "All the methods we applied to a Series index such as iloc[], loc[] and resampling methods, can also be applied to a DataFrame:"
      ]
    },
    {
      "cell_type": "code",
      "metadata": {
        "colab": {
          "base_uri": "https://localhost:8080/"
        },
        "id": "_8dfjkedHW9_",
        "outputId": "d2a96130-9601-4bf7-f5cb-82f8b68c9288"
      },
      "source": [
        "aapl_2016 = df['2016']\n",
        "aapl_month = aapl_2016.resample('M').agg(lambda x: x[-1]) #Muestra lo últimos valores de cada mes\n",
        "print(aapl_month)"
      ],
      "execution_count": 38,
      "outputs": [
        {
          "output_type": "stream",
          "name": "stdout",
          "text": [
            "                 Open       High        Low      Close     Volume  Dividends  \\\n",
            "Date                                                                           \n",
            "2016-01-31  21.730614  22.315201  21.629744  22.315201  257666000        0.0   \n",
            "2016-02-29  22.325650  22.641428  22.277247  22.286467  140865200        0.0   \n",
            "2016-03-31  25.289811  25.331300  25.096195  25.121550  103553600        0.0   \n",
            "2016-04-30  21.664136  21.832397  21.323005  21.606512  274126000        0.0   \n",
            "2016-05-31  23.096979  23.282497  22.916099  23.157272  169228800        0.0   \n",
            "2016-06-30  21.900390  22.208812  21.867924  22.169390  143345600        0.0   \n",
            "2016-07-31  24.161396  24.244879  24.043127  24.166033  110934800        0.0   \n",
            "2016-08-31  24.635014  24.847183  24.630350  24.737600  118649600        0.0   \n",
            "2016-09-30  26.220455  26.432626  26.066575  26.358017  145516400        0.0   \n",
            "2016-10-31  26.497914  26.633144  26.392994  26.472267  105677600        0.0   \n",
            "2016-11-30  26.153536  26.294146  25.841849  25.900436  144649200        0.0   \n",
            "2016-12-31  27.337011  27.465903  27.051103  27.142500  122345200        0.0   \n",
            "\n",
            "            Stock Splits  \n",
            "Date                      \n",
            "2016-01-31             0  \n",
            "2016-02-29             0  \n",
            "2016-03-31             0  \n",
            "2016-04-30             0  \n",
            "2016-05-31             0  \n",
            "2016-06-30             0  \n",
            "2016-07-31             0  \n",
            "2016-08-31             0  \n",
            "2016-09-30             0  \n",
            "2016-10-31             0  \n",
            "2016-11-30             0  \n",
            "2016-12-31             0  \n"
          ]
        },
        {
          "output_type": "stream",
          "name": "stderr",
          "text": [
            "/usr/local/lib/python3.7/dist-packages/ipykernel_launcher.py:1: FutureWarning: Indexing a DataFrame with a datetimelike index using a single string to slice the rows, like `frame[string]`, is deprecated and will be removed in a future version. Use `frame.loc[string]` instead.\n",
            "  \"\"\"Entry point for launching an IPython kernel.\n"
          ]
        }
      ]
    },
    {
      "cell_type": "markdown",
      "metadata": {
        "id": "CqrbrbFZPTJe"
      },
      "source": [
        "We may select certain columns of a DataFrame using their names:"
      ]
    },
    {
      "cell_type": "code",
      "metadata": {
        "colab": {
          "base_uri": "https://localhost:8080/"
        },
        "id": "7bQGeyCAHW9_",
        "outputId": "80d61854-44bd-4c5a-d32f-15264c350b74"
      },
      "source": [
        "aapl_bar = aapl_month[['Open', 'High', 'Low', 'Close']]\n",
        "print(aapl_bar) #Se imprimen únicamente las columnas que se necesitan"
      ],
      "execution_count": 39,
      "outputs": [
        {
          "output_type": "stream",
          "name": "stdout",
          "text": [
            "                 Open       High        Low      Close\n",
            "Date                                                  \n",
            "2016-01-31  21.730614  22.315201  21.629744  22.315201\n",
            "2016-02-29  22.325650  22.641428  22.277247  22.286467\n",
            "2016-03-31  25.289811  25.331300  25.096195  25.121550\n",
            "2016-04-30  21.664136  21.832397  21.323005  21.606512\n",
            "2016-05-31  23.096979  23.282497  22.916099  23.157272\n",
            "2016-06-30  21.900390  22.208812  21.867924  22.169390\n",
            "2016-07-31  24.161396  24.244879  24.043127  24.166033\n",
            "2016-08-31  24.635014  24.847183  24.630350  24.737600\n",
            "2016-09-30  26.220455  26.432626  26.066575  26.358017\n",
            "2016-10-31  26.497914  26.633144  26.392994  26.472267\n",
            "2016-11-30  26.153536  26.294146  25.841849  25.900436\n",
            "2016-12-31  27.337011  27.465903  27.051103  27.142500\n"
          ]
        }
      ]
    },
    {
      "cell_type": "markdown",
      "metadata": {
        "id": "8CQaZCAQP68O"
      },
      "source": [
        "We can even specify both rows and columns using loc[]. The row indices and column names are separated by a comma:"
      ]
    },
    {
      "cell_type": "code",
      "metadata": {
        "colab": {
          "base_uri": "https://localhost:8080/"
        },
        "id": "YjWWiHVpHW-A",
        "outputId": "58a6428d-1449-4ab6-d73e-cd19c60e3656"
      },
      "source": [
        "#Se especifíca que la tabla vaya desde marzo hasta mayo y que sólo se muestren las columnas que se necesitan\n",
        "print(aapl_month.loc['2016-03':'2016-06',['Open', 'High', 'Low', 'Close']])"
      ],
      "execution_count": 40,
      "outputs": [
        {
          "output_type": "stream",
          "name": "stdout",
          "text": [
            "                 Open       High        Low      Close\n",
            "Date                                                  \n",
            "2016-03-31  25.289811  25.331300  25.096195  25.121550\n",
            "2016-04-30  21.664136  21.832397  21.323005  21.606512\n",
            "2016-05-31  23.096979  23.282497  22.916099  23.157272\n",
            "2016-06-30  21.900390  22.208812  21.867924  22.169390\n"
          ]
        }
      ]
    },
    {
      "cell_type": "markdown",
      "metadata": {
        "id": "Xcn_pHNLQBEH"
      },
      "source": [
        "The subset methods in DataFrame is quite useful. By writing logical statements in square brackets, we can make customized subsets:"
      ]
    },
    {
      "cell_type": "code",
      "metadata": {
        "colab": {
          "base_uri": "https://localhost:8080/"
        },
        "id": "RxKg4dObHW-A",
        "outputId": "94f5175d-653c-41dc-8bf8-0b301fe0acdd"
      },
      "source": [
        "import numpy as np\n",
        "\n",
        "above = aapl_bar[aapl_bar.Close > np.mean(aapl_bar.Close)] #Se crea un dataframe con las condiciones estadísticas que se requieran\n",
        "print(above)"
      ],
      "execution_count": 41,
      "outputs": [
        {
          "output_type": "stream",
          "name": "stdout",
          "text": [
            "                 Open       High        Low      Close\n",
            "Date                                                  \n",
            "2016-03-31  25.289811  25.331300  25.096195  25.121550\n",
            "2016-08-31  24.635014  24.847183  24.630350  24.737600\n",
            "2016-09-30  26.220455  26.432626  26.066575  26.358017\n",
            "2016-10-31  26.497914  26.633144  26.392994  26.472267\n",
            "2016-11-30  26.153536  26.294146  25.841849  25.900436\n",
            "2016-12-31  27.337011  27.465903  27.051103  27.142500\n"
          ]
        }
      ]
    },
    {
      "cell_type": "markdown",
      "metadata": {
        "id": "wcm_UadkQLL5"
      },
      "source": [
        "## Data Validation\n",
        "As mentioned, all methods that apply to a Series can also be applied to a DataFrame. Here we add a new column to an existing DataFrame:"
      ]
    },
    {
      "cell_type": "code",
      "metadata": {
        "colab": {
          "base_uri": "https://localhost:8080/"
        },
        "id": "jZXFdOVFHW-A",
        "outputId": "2c11f4f9-fa76-473b-eae9-78b19a03dc67"
      },
      "source": [
        "aapl_bar['rate_return'] = aapl_bar.Close.pct_change() #Se agrega la columna de tasa de rendimiento que guardará los valores del porcentaje de cambio anual\n",
        "print(aapl_bar)"
      ],
      "execution_count": 42,
      "outputs": [
        {
          "output_type": "stream",
          "name": "stdout",
          "text": [
            "                 Open       High        Low      Close  rate_return\n",
            "Date                                                               \n",
            "2016-01-31  21.730614  22.315201  21.629744  22.315201          NaN\n",
            "2016-02-29  22.325650  22.641428  22.277247  22.286467    -0.001288\n",
            "2016-03-31  25.289811  25.331300  25.096195  25.121550     0.127211\n",
            "2016-04-30  21.664136  21.832397  21.323005  21.606512    -0.139921\n",
            "2016-05-31  23.096979  23.282497  22.916099  23.157272     0.071773\n",
            "2016-06-30  21.900390  22.208812  21.867924  22.169390    -0.042660\n",
            "2016-07-31  24.161396  24.244879  24.043127  24.166033     0.090063\n",
            "2016-08-31  24.635014  24.847183  24.630350  24.737600     0.023652\n",
            "2016-09-30  26.220455  26.432626  26.066575  26.358017     0.065504\n",
            "2016-10-31  26.497914  26.633144  26.392994  26.472267     0.004335\n",
            "2016-11-30  26.153536  26.294146  25.841849  25.900436    -0.021601\n",
            "2016-12-31  27.337011  27.465903  27.051103  27.142500     0.047955\n"
          ]
        },
        {
          "output_type": "stream",
          "name": "stderr",
          "text": [
            "/usr/local/lib/python3.7/dist-packages/ipykernel_launcher.py:1: SettingWithCopyWarning: \n",
            "A value is trying to be set on a copy of a slice from a DataFrame.\n",
            "Try using .loc[row_indexer,col_indexer] = value instead\n",
            "\n",
            "See the caveats in the documentation: https://pandas.pydata.org/pandas-docs/stable/user_guide/indexing.html#returning-a-view-versus-a-copy\n",
            "  \"\"\"Entry point for launching an IPython kernel.\n"
          ]
        }
      ]
    },
    {
      "cell_type": "markdown",
      "metadata": {
        "id": "_or6n5-LQUa-"
      },
      "source": [
        "Here the calculation introduced a NaN value. If the DataFrame is large, we would not be able to observe it. **isnull()** provides a convenient way to check abnormal values."
      ]
    },
    {
      "cell_type": "code",
      "metadata": {
        "colab": {
          "base_uri": "https://localhost:8080/"
        },
        "id": "V5wgmhIPHW-B",
        "outputId": "4bd1c417-a4c3-4666-befe-672ac2c48373"
      },
      "source": [
        "#Con la función isnull revisamos si hay valores anormales en el dataframe\n",
        "missing = aapl_bar.isnull()\n",
        "print(missing)\n",
        "print('---------------------------------------------')\n",
        "print(missing.describe()) #Se realiza un resumen estadístico de los valores anormales"
      ],
      "execution_count": 43,
      "outputs": [
        {
          "output_type": "stream",
          "name": "stdout",
          "text": [
            "             Open   High    Low  Close  rate_return\n",
            "Date                                               \n",
            "2016-01-31  False  False  False  False         True\n",
            "2016-02-29  False  False  False  False        False\n",
            "2016-03-31  False  False  False  False        False\n",
            "2016-04-30  False  False  False  False        False\n",
            "2016-05-31  False  False  False  False        False\n",
            "2016-06-30  False  False  False  False        False\n",
            "2016-07-31  False  False  False  False        False\n",
            "2016-08-31  False  False  False  False        False\n",
            "2016-09-30  False  False  False  False        False\n",
            "2016-10-31  False  False  False  False        False\n",
            "2016-11-30  False  False  False  False        False\n",
            "2016-12-31  False  False  False  False        False\n",
            "---------------------------------------------\n",
            "         Open   High    Low  Close rate_return\n",
            "count      12     12     12     12          12\n",
            "unique      1      1      1      1           2\n",
            "top     False  False  False  False       False\n",
            "freq       12     12     12     12          11\n"
          ]
        }
      ]
    },
    {
      "cell_type": "markdown",
      "metadata": {
        "id": "d6KFV4i0QfLW"
      },
      "source": [
        "The row labelled \"unique\" indicates the number of unique values in each column. Since the \"rate_return\" column has 2 unique values, it has at least one missing value.\n",
        "\n",
        "We can deduce the number of missing values by comparing \"count\" with \"freq\". There are 12 counts and 11 False values, so there is one True value which corresponds to the missing value.\n",
        "\n",
        "We can also find the rows with missing values easily:"
      ]
    },
    {
      "cell_type": "code",
      "metadata": {
        "colab": {
          "base_uri": "https://localhost:8080/"
        },
        "id": "Eo0ZAhCsHW-B",
        "outputId": "0cdf518d-5bd4-4b4b-e3d7-aac3a9706f23"
      },
      "source": [
        "print(missing[missing.rate_return == True]) #Imprime la fila que tiene valores perdidos"
      ],
      "execution_count": 45,
      "outputs": [
        {
          "output_type": "stream",
          "name": "stdout",
          "text": [
            "             Open   High    Low  Close  rate_return\n",
            "Date                                               \n",
            "2016-01-31  False  False  False  False         True\n"
          ]
        }
      ]
    },
    {
      "cell_type": "markdown",
      "metadata": {
        "id": "qgggpD8OQkZX"
      },
      "source": [
        "Usually when dealing with missing data, we either delete the whole row or fill it with some value. As we introduced in the Series chapter, the same method **dropna()** and **fillna()** can be applied to a DataFrame."
      ]
    },
    {
      "cell_type": "code",
      "metadata": {
        "colab": {
          "base_uri": "https://localhost:8080/"
        },
        "id": "j8PaIokjHW-B",
        "outputId": "d1ea2804-17a7-4cbb-ed78-d3b77f204ed0"
      },
      "source": [
        "drop = aapl_bar.dropna() #Eliminamos los valores NaN\n",
        "print(drop)\n",
        "print('\\n--------------------------------------------------\\n')\n",
        "fill = aapl_bar.fillna(0) #Reemplazamos los valores NaN por 0\n",
        "print(fill)"
      ],
      "execution_count": 46,
      "outputs": [
        {
          "output_type": "stream",
          "name": "stdout",
          "text": [
            "                 Open       High        Low      Close  rate_return\n",
            "Date                                                               \n",
            "2016-02-29  22.325650  22.641428  22.277247  22.286467    -0.001288\n",
            "2016-03-31  25.289811  25.331300  25.096195  25.121550     0.127211\n",
            "2016-04-30  21.664136  21.832397  21.323005  21.606512    -0.139921\n",
            "2016-05-31  23.096979  23.282497  22.916099  23.157272     0.071773\n",
            "2016-06-30  21.900390  22.208812  21.867924  22.169390    -0.042660\n",
            "2016-07-31  24.161396  24.244879  24.043127  24.166033     0.090063\n",
            "2016-08-31  24.635014  24.847183  24.630350  24.737600     0.023652\n",
            "2016-09-30  26.220455  26.432626  26.066575  26.358017     0.065504\n",
            "2016-10-31  26.497914  26.633144  26.392994  26.472267     0.004335\n",
            "2016-11-30  26.153536  26.294146  25.841849  25.900436    -0.021601\n",
            "2016-12-31  27.337011  27.465903  27.051103  27.142500     0.047955\n",
            "\n",
            "--------------------------------------------------\n",
            "\n",
            "                 Open       High        Low      Close  rate_return\n",
            "Date                                                               \n",
            "2016-01-31  21.730614  22.315201  21.629744  22.315201     0.000000\n",
            "2016-02-29  22.325650  22.641428  22.277247  22.286467    -0.001288\n",
            "2016-03-31  25.289811  25.331300  25.096195  25.121550     0.127211\n",
            "2016-04-30  21.664136  21.832397  21.323005  21.606512    -0.139921\n",
            "2016-05-31  23.096979  23.282497  22.916099  23.157272     0.071773\n",
            "2016-06-30  21.900390  22.208812  21.867924  22.169390    -0.042660\n",
            "2016-07-31  24.161396  24.244879  24.043127  24.166033     0.090063\n",
            "2016-08-31  24.635014  24.847183  24.630350  24.737600     0.023652\n",
            "2016-09-30  26.220455  26.432626  26.066575  26.358017     0.065504\n",
            "2016-10-31  26.497914  26.633144  26.392994  26.472267     0.004335\n",
            "2016-11-30  26.153536  26.294146  25.841849  25.900436    -0.021601\n",
            "2016-12-31  27.337011  27.465903  27.051103  27.142500     0.047955\n"
          ]
        }
      ]
    },
    {
      "cell_type": "markdown",
      "metadata": {
        "id": "0tvoFlKWQxYG"
      },
      "source": [
        "## DataFrame Concat\n",
        "We have seen how to extract a Series from a dataFrame. Now we need to consider how to merge a Series or a DataFrame into another one.\n",
        "\n",
        "In Pandas, the function **concat()** allows us to merge multiple Series into a DataFrame:"
      ]
    },
    {
      "cell_type": "code",
      "metadata": {
        "colab": {
          "base_uri": "https://localhost:8080/"
        },
        "id": "uQrmLIWKHW-C",
        "outputId": "f66b69dc-ddb7-4548-950a-a44d6e43ff73"
      },
      "source": [
        "s1 = pd.Series([143.5, 144.09, 142.73, 144.18, 143.77], name = 'AAPL')\n",
        "s2 = pd.Series([898.7, 911.71, 906.69, 918.59, 926.99], name = 'GOOG')\n",
        "data_frame = pd.concat([s1,s2], axis = 1) #Se concatenan ambas series en un mismo dataframe y se especifíca que se van a unir como dos columnas\n",
        "print(data_frame)"
      ],
      "execution_count": 49,
      "outputs": [
        {
          "output_type": "stream",
          "name": "stdout",
          "text": [
            "     AAPL    GOOG\n",
            "0  143.50  898.70\n",
            "1  144.09  911.71\n",
            "2  142.73  906.69\n",
            "3  144.18  918.59\n",
            "4  143.77  926.99\n"
          ]
        }
      ]
    },
    {
      "cell_type": "markdown",
      "metadata": {
        "id": "3ojbNYJLR2vv"
      },
      "source": [
        "The \"axis = 1\" parameter will join two DataFrames by columns:"
      ]
    },
    {
      "cell_type": "code",
      "metadata": {
        "colab": {
          "base_uri": "https://localhost:8080/"
        },
        "id": "DJsaLd-cRoIm",
        "outputId": "c480304b-ac34-4908-cfbb-8a191299b8a1"
      },
      "source": [
        "log_price = np.log(aapl_bar.Close)\n",
        "log_price.name = 'log_price'\n",
        "print(log_price)\n",
        "print('\\n---------------------- separate line--------------------\\n')\n",
        "concat = pd.concat([aapl_bar, log_price], axis = 1) #Se concatena una nueva serie con los logaritmos naturales de los precios de cierre\n",
        "print(concat)"
      ],
      "execution_count": 50,
      "outputs": [
        {
          "output_type": "stream",
          "name": "stdout",
          "text": [
            "Date\n",
            "2016-01-31    3.105268\n",
            "2016-02-29    3.103980\n",
            "2016-03-31    3.223726\n",
            "2016-04-30    3.072995\n",
            "2016-05-31    3.142309\n",
            "2016-06-30    3.098712\n",
            "2016-07-31    3.184948\n",
            "2016-08-31    3.208324\n",
            "2016-09-30    3.271772\n",
            "2016-10-31    3.276098\n",
            "2016-11-30    3.254260\n",
            "2016-12-31    3.301101\n",
            "Freq: M, Name: log_price, dtype: float64\n",
            "\n",
            "---------------------- separate line--------------------\n",
            "\n",
            "                 Open       High        Low      Close  rate_return  log_price\n",
            "Date                                                                          \n",
            "2016-01-31  21.730614  22.315201  21.629744  22.315201          NaN   3.105268\n",
            "2016-02-29  22.325650  22.641428  22.277247  22.286467    -0.001288   3.103980\n",
            "2016-03-31  25.289811  25.331300  25.096195  25.121550     0.127211   3.223726\n",
            "2016-04-30  21.664136  21.832397  21.323005  21.606512    -0.139921   3.072995\n",
            "2016-05-31  23.096979  23.282497  22.916099  23.157272     0.071773   3.142309\n",
            "2016-06-30  21.900390  22.208812  21.867924  22.169390    -0.042660   3.098712\n",
            "2016-07-31  24.161396  24.244879  24.043127  24.166033     0.090063   3.184948\n",
            "2016-08-31  24.635014  24.847183  24.630350  24.737600     0.023652   3.208324\n",
            "2016-09-30  26.220455  26.432626  26.066575  26.358017     0.065504   3.271772\n",
            "2016-10-31  26.497914  26.633144  26.392994  26.472267     0.004335   3.276098\n",
            "2016-11-30  26.153536  26.294146  25.841849  25.900436    -0.021601   3.254260\n",
            "2016-12-31  27.337011  27.465903  27.051103  27.142500     0.047955   3.301101\n"
          ]
        }
      ]
    },
    {
      "cell_type": "markdown",
      "metadata": {
        "id": "mIZz-FUyR_62"
      },
      "source": [
        "We can also join two DataFrames by rows. Consider these two DataFrames:"
      ]
    },
    {
      "cell_type": "code",
      "metadata": {
        "colab": {
          "base_uri": "https://localhost:8080/"
        },
        "id": "W7uXZptLHW-C",
        "outputId": "52edd9ce-e7c1-4814-f427-17ffc9747f05"
      },
      "source": [
        "#Se crean dos dataframe con los últimos valores de cada mes \n",
        "df_volume = aapl_table.loc['2016-10':'2017-04',['Volume', 'Stock Splits']].resample('M').agg(lambda x: x[-1])\n",
        "print(df_volume)\n",
        "print('\\n---------------------- separate line--------------------\\n')\n",
        "df_2017 = aapl_table.loc['2016-10':'2017-04',['Open', 'High', 'Low', 'Close']].resample('M').agg(lambda x: x[-1])\n",
        "print(df_2017)"
      ],
      "execution_count": 51,
      "outputs": [
        {
          "output_type": "stream",
          "name": "stdout",
          "text": [
            "               Volume  Stock Splits\n",
            "Date                               \n",
            "2016-10-31  105677600             0\n",
            "2016-11-30  144649200             0\n",
            "2016-12-31  122345200             0\n",
            "2017-01-31  196804000             0\n",
            "2017-02-28   93931600             0\n",
            "2017-03-31   78646800             0\n",
            "2017-04-30   83441600             0\n",
            "\n",
            "---------------------- separate line--------------------\n",
            "\n",
            "                 Open       High        Low      Close\n",
            "Date                                                  \n",
            "2016-10-31  26.497914  26.633144  26.392994  26.472267\n",
            "2016-11-30  26.153536  26.294146  25.841849  25.900436\n",
            "2016-12-31  27.337011  27.465903  27.051103  27.142500\n",
            "2017-01-31  28.391586  28.447830  28.267381  28.438456\n",
            "2017-02-28  32.264075  32.348808  32.174635  32.242893\n",
            "2017-03-31  33.826915  33.956368  33.659803  33.812794\n",
            "2017-04-30  33.913994  33.963423  33.720996  33.810432\n"
          ]
        }
      ]
    },
    {
      "cell_type": "markdown",
      "metadata": {
        "id": "iZk_C9aSSLeP"
      },
      "source": [
        "Now we merge the DataFrames with our DataFrame 'aapl_bar'"
      ]
    },
    {
      "cell_type": "code",
      "metadata": {
        "colab": {
          "base_uri": "https://localhost:8080/"
        },
        "id": "aFqmjokOHW-C",
        "outputId": "3ea4d419-7e13-454c-81c5-5fc2e64402fb"
      },
      "source": [
        "concat = pd.concat([aapl_bar, df_volume], axis = 1) #Se concatena el dataframe creado con el original\n",
        "print(concat)"
      ],
      "execution_count": 52,
      "outputs": [
        {
          "output_type": "stream",
          "name": "stdout",
          "text": [
            "                 Open       High        Low      Close  rate_return  \\\n",
            "Date                                                                  \n",
            "2016-01-31  21.730614  22.315201  21.629744  22.315201          NaN   \n",
            "2016-02-29  22.325650  22.641428  22.277247  22.286467    -0.001288   \n",
            "2016-03-31  25.289811  25.331300  25.096195  25.121550     0.127211   \n",
            "2016-04-30  21.664136  21.832397  21.323005  21.606512    -0.139921   \n",
            "2016-05-31  23.096979  23.282497  22.916099  23.157272     0.071773   \n",
            "2016-06-30  21.900390  22.208812  21.867924  22.169390    -0.042660   \n",
            "2016-07-31  24.161396  24.244879  24.043127  24.166033     0.090063   \n",
            "2016-08-31  24.635014  24.847183  24.630350  24.737600     0.023652   \n",
            "2016-09-30  26.220455  26.432626  26.066575  26.358017     0.065504   \n",
            "2016-10-31  26.497914  26.633144  26.392994  26.472267     0.004335   \n",
            "2016-11-30  26.153536  26.294146  25.841849  25.900436    -0.021601   \n",
            "2016-12-31  27.337011  27.465903  27.051103  27.142500     0.047955   \n",
            "2017-01-31        NaN        NaN        NaN        NaN          NaN   \n",
            "2017-02-28        NaN        NaN        NaN        NaN          NaN   \n",
            "2017-03-31        NaN        NaN        NaN        NaN          NaN   \n",
            "2017-04-30        NaN        NaN        NaN        NaN          NaN   \n",
            "\n",
            "                 Volume  Stock Splits  \n",
            "Date                                   \n",
            "2016-01-31          NaN           NaN  \n",
            "2016-02-29          NaN           NaN  \n",
            "2016-03-31          NaN           NaN  \n",
            "2016-04-30          NaN           NaN  \n",
            "2016-05-31          NaN           NaN  \n",
            "2016-06-30          NaN           NaN  \n",
            "2016-07-31          NaN           NaN  \n",
            "2016-08-31          NaN           NaN  \n",
            "2016-09-30          NaN           NaN  \n",
            "2016-10-31  105677600.0           0.0  \n",
            "2016-11-30  144649200.0           0.0  \n",
            "2016-12-31  122345200.0           0.0  \n",
            "2017-01-31  196804000.0           0.0  \n",
            "2017-02-28   93931600.0           0.0  \n",
            "2017-03-31   78646800.0           0.0  \n",
            "2017-04-30   83441600.0           0.0  \n"
          ]
        }
      ]
    },
    {
      "cell_type": "markdown",
      "metadata": {
        "id": "7yI3tgB4SR4O"
      },
      "source": [
        "By default the DataFrame are joined with all of the data. This default options results in zero information loss. We can also merge them by intersection, this is called 'inner join"
      ]
    },
    {
      "cell_type": "code",
      "metadata": {
        "colab": {
          "base_uri": "https://localhost:8080/"
        },
        "id": "31QGLyijHW-C",
        "outputId": "2b9d0080-30d4-496c-a8af-80b5b737871d"
      },
      "source": [
        "concat = pd.concat([aapl_bar,df_volume],axis = 1, join = 'inner') #Se realiza la intersección sólo con los datos en común\n",
        "print(concat)"
      ],
      "execution_count": 56,
      "outputs": [
        {
          "output_type": "stream",
          "name": "stdout",
          "text": [
            "                 Open       High        Low      Close  rate_return  \\\n",
            "Date                                                                  \n",
            "2016-10-31  26.497914  26.633144  26.392994  26.472267     0.004335   \n",
            "2016-11-30  26.153536  26.294146  25.841849  25.900436    -0.021601   \n",
            "2016-12-31  27.337011  27.465903  27.051103  27.142500     0.047955   \n",
            "\n",
            "               Volume  Stock Splits  \n",
            "Date                                 \n",
            "2016-10-31  105677600             0  \n",
            "2016-11-30  144649200             0  \n",
            "2016-12-31  122345200             0  \n"
          ]
        }
      ]
    },
    {
      "cell_type": "markdown",
      "metadata": {
        "id": "oudcWMm5Sd0u"
      },
      "source": [
        "Only the intersection part was left if use 'inner join' method. Now let's try to append a DataFrame to another one:"
      ]
    },
    {
      "cell_type": "code",
      "metadata": {
        "colab": {
          "base_uri": "https://localhost:8080/"
        },
        "id": "lgw0qaOsHW-D",
        "outputId": "5734e2de-9bc2-41aa-965a-a8dbfca6ab45"
      },
      "source": [
        "append = aapl_bar.append(df_2017) #Append es el equivalente a realizar la concatenación con axis=0\n",
        "print(append)"
      ],
      "execution_count": 58,
      "outputs": [
        {
          "output_type": "stream",
          "name": "stdout",
          "text": [
            "                 Open       High        Low      Close  rate_return\n",
            "Date                                                               \n",
            "2016-01-31  21.730614  22.315201  21.629744  22.315201          NaN\n",
            "2016-02-29  22.325650  22.641428  22.277247  22.286467    -0.001288\n",
            "2016-03-31  25.289811  25.331300  25.096195  25.121550     0.127211\n",
            "2016-04-30  21.664136  21.832397  21.323005  21.606512    -0.139921\n",
            "2016-05-31  23.096979  23.282497  22.916099  23.157272     0.071773\n",
            "2016-06-30  21.900390  22.208812  21.867924  22.169390    -0.042660\n",
            "2016-07-31  24.161396  24.244879  24.043127  24.166033     0.090063\n",
            "2016-08-31  24.635014  24.847183  24.630350  24.737600     0.023652\n",
            "2016-09-30  26.220455  26.432626  26.066575  26.358017     0.065504\n",
            "2016-10-31  26.497914  26.633144  26.392994  26.472267     0.004335\n",
            "2016-11-30  26.153536  26.294146  25.841849  25.900436    -0.021601\n",
            "2016-12-31  27.337011  27.465903  27.051103  27.142500     0.047955\n",
            "2016-10-31  26.497914  26.633144  26.392994  26.472267          NaN\n",
            "2016-11-30  26.153536  26.294146  25.841849  25.900436          NaN\n",
            "2016-12-31  27.337011  27.465903  27.051103  27.142500          NaN\n",
            "2017-01-31  28.391586  28.447830  28.267381  28.438456          NaN\n",
            "2017-02-28  32.264075  32.348808  32.174635  32.242893          NaN\n",
            "2017-03-31  33.826915  33.956368  33.659803  33.812794          NaN\n",
            "2017-04-30  33.913994  33.963423  33.720996  33.810432          NaN\n"
          ]
        }
      ]
    },
    {
      "cell_type": "markdown",
      "metadata": {
        "id": "zXT6cMquSq_P"
      },
      "source": [
        "'Append' is essentially to concat two DataFrames by axis = 0, thus here is an alternative way to append:"
      ]
    },
    {
      "cell_type": "code",
      "metadata": {
        "colab": {
          "base_uri": "https://localhost:8080/"
        },
        "id": "2EuSaFO9HW-D",
        "outputId": "daec7ac4-9603-4c2c-f237-b1ec6801e571"
      },
      "source": [
        "concat = pd.concat([aapl_bar, df_2017], axis = 0) #Equivalente a append\n",
        "print(concat) "
      ],
      "execution_count": 61,
      "outputs": [
        {
          "output_type": "stream",
          "name": "stdout",
          "text": [
            "                 Open       High        Low      Close  rate_return\n",
            "Date                                                               \n",
            "2016-01-31  21.730614  22.315201  21.629744  22.315201          NaN\n",
            "2016-02-29  22.325650  22.641428  22.277247  22.286467    -0.001288\n",
            "2016-03-31  25.289811  25.331300  25.096195  25.121550     0.127211\n",
            "2016-04-30  21.664136  21.832397  21.323005  21.606512    -0.139921\n",
            "2016-05-31  23.096979  23.282497  22.916099  23.157272     0.071773\n",
            "2016-06-30  21.900390  22.208812  21.867924  22.169390    -0.042660\n",
            "2016-07-31  24.161396  24.244879  24.043127  24.166033     0.090063\n",
            "2016-08-31  24.635014  24.847183  24.630350  24.737600     0.023652\n",
            "2016-09-30  26.220455  26.432626  26.066575  26.358017     0.065504\n",
            "2016-10-31  26.497914  26.633144  26.392994  26.472267     0.004335\n",
            "2016-11-30  26.153536  26.294146  25.841849  25.900436    -0.021601\n",
            "2016-12-31  27.337011  27.465903  27.051103  27.142500     0.047955\n",
            "2016-10-31  26.497914  26.633144  26.392994  26.472267          NaN\n",
            "2016-11-30  26.153536  26.294146  25.841849  25.900436          NaN\n",
            "2016-12-31  27.337011  27.465903  27.051103  27.142500          NaN\n",
            "2017-01-31  28.391586  28.447830  28.267381  28.438456          NaN\n",
            "2017-02-28  32.264075  32.348808  32.174635  32.242893          NaN\n",
            "2017-03-31  33.826915  33.956368  33.659803  33.812794          NaN\n",
            "2017-04-30  33.913994  33.963423  33.720996  33.810432          NaN\n"
          ]
        }
      ]
    },
    {
      "cell_type": "markdown",
      "metadata": {
        "id": "-YXL7V9ASst9"
      },
      "source": [
        "Please note that if the two DataFrame have some columns with the same column names, these columns are considered to be the same and will be merged. It's very important to have the right column names. If we change a column names here:"
      ]
    },
    {
      "cell_type": "code",
      "metadata": {
        "colab": {
          "base_uri": "https://localhost:8080/"
        },
        "id": "aT1eoa8mHW-D",
        "outputId": "6cbeef5f-6aa2-4fef-870d-4a3021fe4a99"
      },
      "source": [
        "df_2017.columns = ['Change', 'High','Low','Close'] #Al tener los nombres de columnas distintos, estos no se fusionarán\n",
        "concat = pd.concat([aapl_bar, df_2017], axis = 0)\n",
        "print(concat)"
      ],
      "execution_count": 63,
      "outputs": [
        {
          "output_type": "stream",
          "name": "stdout",
          "text": [
            "                 Open       High        Low      Close  rate_return     Change\n",
            "Date                                                                          \n",
            "2016-01-31  21.730614  22.315201  21.629744  22.315201          NaN        NaN\n",
            "2016-02-29  22.325650  22.641428  22.277247  22.286467    -0.001288        NaN\n",
            "2016-03-31  25.289811  25.331300  25.096195  25.121550     0.127211        NaN\n",
            "2016-04-30  21.664136  21.832397  21.323005  21.606512    -0.139921        NaN\n",
            "2016-05-31  23.096979  23.282497  22.916099  23.157272     0.071773        NaN\n",
            "2016-06-30  21.900390  22.208812  21.867924  22.169390    -0.042660        NaN\n",
            "2016-07-31  24.161396  24.244879  24.043127  24.166033     0.090063        NaN\n",
            "2016-08-31  24.635014  24.847183  24.630350  24.737600     0.023652        NaN\n",
            "2016-09-30  26.220455  26.432626  26.066575  26.358017     0.065504        NaN\n",
            "2016-10-31  26.497914  26.633144  26.392994  26.472267     0.004335        NaN\n",
            "2016-11-30  26.153536  26.294146  25.841849  25.900436    -0.021601        NaN\n",
            "2016-12-31  27.337011  27.465903  27.051103  27.142500     0.047955        NaN\n",
            "2016-10-31        NaN  26.633144  26.392994  26.472267          NaN  26.497914\n",
            "2016-11-30        NaN  26.294146  25.841849  25.900436          NaN  26.153536\n",
            "2016-12-31        NaN  27.465903  27.051103  27.142500          NaN  27.337011\n",
            "2017-01-31        NaN  28.447830  28.267381  28.438456          NaN  28.391586\n",
            "2017-02-28        NaN  32.348808  32.174635  32.242893          NaN  32.264075\n",
            "2017-03-31        NaN  33.956368  33.659803  33.812794          NaN  33.826915\n",
            "2017-04-30        NaN  33.963423  33.720996  33.810432          NaN  33.913994\n"
          ]
        }
      ]
    },
    {
      "cell_type": "markdown",
      "metadata": {
        "id": "shbpOFyyS6uV"
      },
      "source": [
        "Since the column name of 'Open' has been changed, the new DataFrame has an new column named 'Change'.\n",
        "\n",
        "# Summary\n",
        "\n",
        "Hereby we introduced the most import part of python: resampling and DataFrame manipulation. We only introduced the most commonly used method in Financial data analysis. There are also many methods used in data mining, which are also beneficial. You can always check the [Pandas](https://pandas.pydata.org/pandas-docs/stable/index.html) official documentations for help."
      ]
    }
  ]
}
